{
  "nbformat": 4,
  "nbformat_minor": 0,
  "metadata": {
    "kernelspec": {
      "display_name": "Python 3",
      "language": "python",
      "name": "python3"
    },
    "language_info": {
      "codemirror_mode": {
        "name": "ipython",
        "version": 3
      },
      "file_extension": ".py",
      "mimetype": "text/x-python",
      "name": "python",
      "nbconvert_exporter": "python",
      "pygments_lexer": "ipython3",
      "version": "3.7.4"
    },
    "colab": {
      "name": "KMeans.ipynb",
      "provenance": [],
      "machine_shape": "hm"
    }
  },
  "cells": [
    {
      "cell_type": "code",
      "metadata": {
        "id": "zIRH6TK8msBr",
        "colab_type": "code",
        "colab": {}
      },
      "source": [
        "from preprocessing import *\n",
        "from clustering import *\n",
        "import pandas as pd\n",
        "import seaborn as sns\n",
        "import matplotlib.pyplot as plt\n",
        "import time\n",
        "from sklearn.cluster import KMeans\n",
        "from sklearn.mixture import GaussianMixture\n",
        "from GMM import my_GMM_uniform_cluster\n",
        "data_contrats = pd.read_csv('train_contrats_approx.csv',sep=\",\")\n",
        "from sklearn.metrics import adjusted_rand_score\n",
        "from collections import Counter"
      ],
      "execution_count": 0,
      "outputs": []
    },
    {
      "cell_type": "markdown",
      "metadata": {
        "id": "mDQbqEj3mq66",
        "colab_type": "text"
      },
      "source": [
        "Le but est ici d'évaluer la stabilité de differentes méthodes de clustering, en utilisant le procédé suivant : \n",
        "Clustering sur un jeu d'entrainement (75%) (Clustering A)\n",
        "Nouveau clustering sur toute la base de données, ie 75% initaux + 25% restants (Clustering B)\n",
        "Calcul du adjusted rand index, qui est d'autant plus grand que deux points dans un même cluster dan le clustering A sont toutjours dans le même cluster dans le clustering B, ou que deux points dans deux clusters différents dans le clustering A sont toutjours dans deux clusters différents dans le clustering B.\n",
        "Lors du calcul du score, seuls 75% des points sont donc considérés.\n",
        "Selon nous, une perturbation de 25% est forte, et permettera de vraiment mettre les méthodes de clustering à l'épreuve."
      ]
    },
    {
      "cell_type": "code",
      "metadata": {
        "id": "PxBGM7tkmq68",
        "colab_type": "code",
        "colab": {}
      },
      "source": [
        "data = pd.read_csv(\"train_contrats_approx.csv\", sep=\",\", engine=\"python\")\n",
        "\n",
        "# For original database ---\n",
        "#data = pd.read_csv(\"train_contrats.csv\", sep=\";\")\n",
        "#data[\"Freq_sinistre\"] = data[\"nombre_de_sinistre\"]/data[\"Exposition_au_risque\"]\n",
        "\n",
        "#train_data, _ = preprocessing(data, balance=False, train_size=0.75)\n",
        "preprocessing(data, balance=False, train_size=1.)[0]\n",
        "data = preprocessing(data, balance=False, train_size=1.)[0]\n",
        "train_data = data[:(int(len(data)*0.75))]"
      ],
      "execution_count": 0,
      "outputs": []
    },
    {
      "cell_type": "code",
      "metadata": {
        "id": "DJS8xftCmq7E",
        "colab_type": "code",
        "colab": {
          "base_uri": "https://localhost:8080/",
          "height": 436
        },
        "outputId": "1922eddf-87c9-4de6-e9f8-b16cab62ffd3"
      },
      "source": [
        "train_data"
      ],
      "execution_count": 3,
      "outputs": [
        {
          "output_type": "execute_result",
          "data": {
            "text/html": [
              "<div>\n",
              "<style scoped>\n",
              "    .dataframe tbody tr th:only-of-type {\n",
              "        vertical-align: middle;\n",
              "    }\n",
              "\n",
              "    .dataframe tbody tr th {\n",
              "        vertical-align: top;\n",
              "    }\n",
              "\n",
              "    .dataframe thead th {\n",
              "        text-align: right;\n",
              "    }\n",
              "</style>\n",
              "<table border=\"1\" class=\"dataframe\">\n",
              "  <thead>\n",
              "    <tr style=\"text-align: right;\">\n",
              "      <th></th>\n",
              "      <th>Classe_Age_Situ_Cont</th>\n",
              "      <th>franchise</th>\n",
              "      <th>Exposition_au_risque</th>\n",
              "      <th>ValeurPuissance</th>\n",
              "      <th>Freq_sinistre</th>\n",
              "      <th>Type_Apporteur_1</th>\n",
              "      <th>Type_Apporteur_2</th>\n",
              "      <th>Type_Apporteur_3</th>\n",
              "      <th>Activite_1</th>\n",
              "      <th>Activite_2</th>\n",
              "      <th>Activite_3</th>\n",
              "      <th>Activite_4</th>\n",
              "      <th>Activite_5</th>\n",
              "      <th>Activite_6</th>\n",
              "      <th>Activite_7</th>\n",
              "      <th>Activite_8</th>\n",
              "      <th>Mode_gestion_N</th>\n",
              "      <th>Mode_gestion_P</th>\n",
              "      <th>Zone_1</th>\n",
              "      <th>Zone_2</th>\n",
              "      <th>Zone_3</th>\n",
              "      <th>Zone_4</th>\n",
              "      <th>Zone_5</th>\n",
              "      <th>Zone_6</th>\n",
              "      <th>Fractionnement_A</th>\n",
              "      <th>Fractionnement_S</th>\n",
              "      <th>Fractionnement_T</th>\n",
              "      <th>FORMULE_2</th>\n",
              "      <th>FORMULE_3</th>\n",
              "      <th>FORMULE_4</th>\n",
              "      <th>FORMULE_5</th>\n",
              "      <th>Age_du_vehicule_&lt;= 5 ans</th>\n",
              "      <th>Age_du_vehicule_&gt; 5 ans</th>\n",
              "    </tr>\n",
              "  </thead>\n",
              "  <tbody>\n",
              "    <tr>\n",
              "      <th>0</th>\n",
              "      <td>0.596130</td>\n",
              "      <td>0.298065</td>\n",
              "      <td>0.054645</td>\n",
              "      <td>0.695485</td>\n",
              "      <td>0.000183</td>\n",
              "      <td>0.099355</td>\n",
              "      <td>0.000000</td>\n",
              "      <td>0.0</td>\n",
              "      <td>0.0</td>\n",
              "      <td>0.0</td>\n",
              "      <td>0.099355</td>\n",
              "      <td>0.0</td>\n",
              "      <td>0.0</td>\n",
              "      <td>0.0</td>\n",
              "      <td>0.000000</td>\n",
              "      <td>0.0</td>\n",
              "      <td>0.099355</td>\n",
              "      <td>0.000000</td>\n",
              "      <td>0.000000</td>\n",
              "      <td>0.0</td>\n",
              "      <td>0.0</td>\n",
              "      <td>0.099355</td>\n",
              "      <td>0.0</td>\n",
              "      <td>0.0</td>\n",
              "      <td>0.099355</td>\n",
              "      <td>0.000000</td>\n",
              "      <td>0.000000</td>\n",
              "      <td>0.0</td>\n",
              "      <td>0.000000</td>\n",
              "      <td>0.0</td>\n",
              "      <td>0.099355</td>\n",
              "      <td>0.099355</td>\n",
              "      <td>0.000000</td>\n",
              "    </tr>\n",
              "    <tr>\n",
              "      <th>1</th>\n",
              "      <td>0.541791</td>\n",
              "      <td>0.216716</td>\n",
              "      <td>0.044427</td>\n",
              "      <td>0.758507</td>\n",
              "      <td>0.000274</td>\n",
              "      <td>0.000000</td>\n",
              "      <td>0.108358</td>\n",
              "      <td>0.0</td>\n",
              "      <td>0.0</td>\n",
              "      <td>0.0</td>\n",
              "      <td>0.000000</td>\n",
              "      <td>0.0</td>\n",
              "      <td>0.0</td>\n",
              "      <td>0.0</td>\n",
              "      <td>0.108358</td>\n",
              "      <td>0.0</td>\n",
              "      <td>0.108358</td>\n",
              "      <td>0.000000</td>\n",
              "      <td>0.000000</td>\n",
              "      <td>0.0</td>\n",
              "      <td>0.0</td>\n",
              "      <td>0.108358</td>\n",
              "      <td>0.0</td>\n",
              "      <td>0.0</td>\n",
              "      <td>0.000000</td>\n",
              "      <td>0.108358</td>\n",
              "      <td>0.000000</td>\n",
              "      <td>0.0</td>\n",
              "      <td>0.108358</td>\n",
              "      <td>0.0</td>\n",
              "      <td>0.000000</td>\n",
              "      <td>0.000000</td>\n",
              "      <td>0.108358</td>\n",
              "    </tr>\n",
              "    <tr>\n",
              "      <th>2</th>\n",
              "      <td>0.542157</td>\n",
              "      <td>0.216863</td>\n",
              "      <td>0.024939</td>\n",
              "      <td>0.759020</td>\n",
              "      <td>0.000262</td>\n",
              "      <td>0.000000</td>\n",
              "      <td>0.108431</td>\n",
              "      <td>0.0</td>\n",
              "      <td>0.0</td>\n",
              "      <td>0.0</td>\n",
              "      <td>0.000000</td>\n",
              "      <td>0.0</td>\n",
              "      <td>0.0</td>\n",
              "      <td>0.0</td>\n",
              "      <td>0.108431</td>\n",
              "      <td>0.0</td>\n",
              "      <td>0.108431</td>\n",
              "      <td>0.000000</td>\n",
              "      <td>0.000000</td>\n",
              "      <td>0.0</td>\n",
              "      <td>0.0</td>\n",
              "      <td>0.108431</td>\n",
              "      <td>0.0</td>\n",
              "      <td>0.0</td>\n",
              "      <td>0.000000</td>\n",
              "      <td>0.108431</td>\n",
              "      <td>0.000000</td>\n",
              "      <td>0.0</td>\n",
              "      <td>0.108431</td>\n",
              "      <td>0.0</td>\n",
              "      <td>0.000000</td>\n",
              "      <td>0.000000</td>\n",
              "      <td>0.108431</td>\n",
              "    </tr>\n",
              "    <tr>\n",
              "      <th>3</th>\n",
              "      <td>0.692925</td>\n",
              "      <td>0.277170</td>\n",
              "      <td>0.036032</td>\n",
              "      <td>0.554340</td>\n",
              "      <td>0.000773</td>\n",
              "      <td>0.000000</td>\n",
              "      <td>0.138585</td>\n",
              "      <td>0.0</td>\n",
              "      <td>0.0</td>\n",
              "      <td>0.0</td>\n",
              "      <td>0.000000</td>\n",
              "      <td>0.0</td>\n",
              "      <td>0.0</td>\n",
              "      <td>0.0</td>\n",
              "      <td>0.138585</td>\n",
              "      <td>0.0</td>\n",
              "      <td>0.138585</td>\n",
              "      <td>0.000000</td>\n",
              "      <td>0.000000</td>\n",
              "      <td>0.0</td>\n",
              "      <td>0.0</td>\n",
              "      <td>0.138585</td>\n",
              "      <td>0.0</td>\n",
              "      <td>0.0</td>\n",
              "      <td>0.000000</td>\n",
              "      <td>0.138585</td>\n",
              "      <td>0.000000</td>\n",
              "      <td>0.0</td>\n",
              "      <td>0.000000</td>\n",
              "      <td>0.0</td>\n",
              "      <td>0.138585</td>\n",
              "      <td>0.138585</td>\n",
              "      <td>0.000000</td>\n",
              "    </tr>\n",
              "    <tr>\n",
              "      <th>4</th>\n",
              "      <td>0.755575</td>\n",
              "      <td>0.251858</td>\n",
              "      <td>0.030223</td>\n",
              "      <td>0.503717</td>\n",
              "      <td>0.004656</td>\n",
              "      <td>0.000000</td>\n",
              "      <td>0.125929</td>\n",
              "      <td>0.0</td>\n",
              "      <td>0.0</td>\n",
              "      <td>0.0</td>\n",
              "      <td>0.000000</td>\n",
              "      <td>0.0</td>\n",
              "      <td>0.0</td>\n",
              "      <td>0.0</td>\n",
              "      <td>0.125929</td>\n",
              "      <td>0.0</td>\n",
              "      <td>0.125929</td>\n",
              "      <td>0.000000</td>\n",
              "      <td>0.000000</td>\n",
              "      <td>0.0</td>\n",
              "      <td>0.0</td>\n",
              "      <td>0.125929</td>\n",
              "      <td>0.0</td>\n",
              "      <td>0.0</td>\n",
              "      <td>0.000000</td>\n",
              "      <td>0.125929</td>\n",
              "      <td>0.000000</td>\n",
              "      <td>0.0</td>\n",
              "      <td>0.000000</td>\n",
              "      <td>0.0</td>\n",
              "      <td>0.125929</td>\n",
              "      <td>0.125929</td>\n",
              "      <td>0.000000</td>\n",
              "    </tr>\n",
              "    <tr>\n",
              "      <th>...</th>\n",
              "      <td>...</td>\n",
              "      <td>...</td>\n",
              "      <td>...</td>\n",
              "      <td>...</td>\n",
              "      <td>...</td>\n",
              "      <td>...</td>\n",
              "      <td>...</td>\n",
              "      <td>...</td>\n",
              "      <td>...</td>\n",
              "      <td>...</td>\n",
              "      <td>...</td>\n",
              "      <td>...</td>\n",
              "      <td>...</td>\n",
              "      <td>...</td>\n",
              "      <td>...</td>\n",
              "      <td>...</td>\n",
              "      <td>...</td>\n",
              "      <td>...</td>\n",
              "      <td>...</td>\n",
              "      <td>...</td>\n",
              "      <td>...</td>\n",
              "      <td>...</td>\n",
              "      <td>...</td>\n",
              "      <td>...</td>\n",
              "      <td>...</td>\n",
              "      <td>...</td>\n",
              "      <td>...</td>\n",
              "      <td>...</td>\n",
              "      <td>...</td>\n",
              "      <td>...</td>\n",
              "      <td>...</td>\n",
              "      <td>...</td>\n",
              "      <td>...</td>\n",
              "    </tr>\n",
              "    <tr>\n",
              "      <th>65416</th>\n",
              "      <td>0.110427</td>\n",
              "      <td>0.331280</td>\n",
              "      <td>0.110427</td>\n",
              "      <td>0.883414</td>\n",
              "      <td>0.009290</td>\n",
              "      <td>0.110427</td>\n",
              "      <td>0.000000</td>\n",
              "      <td>0.0</td>\n",
              "      <td>0.0</td>\n",
              "      <td>0.0</td>\n",
              "      <td>0.110427</td>\n",
              "      <td>0.0</td>\n",
              "      <td>0.0</td>\n",
              "      <td>0.0</td>\n",
              "      <td>0.000000</td>\n",
              "      <td>0.0</td>\n",
              "      <td>0.000000</td>\n",
              "      <td>0.110427</td>\n",
              "      <td>0.110427</td>\n",
              "      <td>0.0</td>\n",
              "      <td>0.0</td>\n",
              "      <td>0.000000</td>\n",
              "      <td>0.0</td>\n",
              "      <td>0.0</td>\n",
              "      <td>0.000000</td>\n",
              "      <td>0.000000</td>\n",
              "      <td>0.110427</td>\n",
              "      <td>0.0</td>\n",
              "      <td>0.110427</td>\n",
              "      <td>0.0</td>\n",
              "      <td>0.000000</td>\n",
              "      <td>0.110427</td>\n",
              "      <td>0.000000</td>\n",
              "    </tr>\n",
              "    <tr>\n",
              "      <th>65417</th>\n",
              "      <td>0.110510</td>\n",
              "      <td>0.331530</td>\n",
              "      <td>0.103879</td>\n",
              "      <td>0.884080</td>\n",
              "      <td>0.000000</td>\n",
              "      <td>0.110510</td>\n",
              "      <td>0.000000</td>\n",
              "      <td>0.0</td>\n",
              "      <td>0.0</td>\n",
              "      <td>0.0</td>\n",
              "      <td>0.110510</td>\n",
              "      <td>0.0</td>\n",
              "      <td>0.0</td>\n",
              "      <td>0.0</td>\n",
              "      <td>0.000000</td>\n",
              "      <td>0.0</td>\n",
              "      <td>0.000000</td>\n",
              "      <td>0.110510</td>\n",
              "      <td>0.110510</td>\n",
              "      <td>0.0</td>\n",
              "      <td>0.0</td>\n",
              "      <td>0.000000</td>\n",
              "      <td>0.0</td>\n",
              "      <td>0.0</td>\n",
              "      <td>0.000000</td>\n",
              "      <td>0.000000</td>\n",
              "      <td>0.110510</td>\n",
              "      <td>0.0</td>\n",
              "      <td>0.110510</td>\n",
              "      <td>0.0</td>\n",
              "      <td>0.000000</td>\n",
              "      <td>0.110510</td>\n",
              "      <td>0.000000</td>\n",
              "    </tr>\n",
              "    <tr>\n",
              "      <th>65418</th>\n",
              "      <td>0.216923</td>\n",
              "      <td>0.325384</td>\n",
              "      <td>0.108461</td>\n",
              "      <td>0.867690</td>\n",
              "      <td>0.008504</td>\n",
              "      <td>0.108461</td>\n",
              "      <td>0.000000</td>\n",
              "      <td>0.0</td>\n",
              "      <td>0.0</td>\n",
              "      <td>0.0</td>\n",
              "      <td>0.108461</td>\n",
              "      <td>0.0</td>\n",
              "      <td>0.0</td>\n",
              "      <td>0.0</td>\n",
              "      <td>0.000000</td>\n",
              "      <td>0.0</td>\n",
              "      <td>0.000000</td>\n",
              "      <td>0.108461</td>\n",
              "      <td>0.108461</td>\n",
              "      <td>0.0</td>\n",
              "      <td>0.0</td>\n",
              "      <td>0.000000</td>\n",
              "      <td>0.0</td>\n",
              "      <td>0.0</td>\n",
              "      <td>0.000000</td>\n",
              "      <td>0.000000</td>\n",
              "      <td>0.108461</td>\n",
              "      <td>0.0</td>\n",
              "      <td>0.108461</td>\n",
              "      <td>0.0</td>\n",
              "      <td>0.000000</td>\n",
              "      <td>0.000000</td>\n",
              "      <td>0.108461</td>\n",
              "    </tr>\n",
              "    <tr>\n",
              "      <th>65419</th>\n",
              "      <td>0.239046</td>\n",
              "      <td>0.358569</td>\n",
              "      <td>0.119523</td>\n",
              "      <td>0.836660</td>\n",
              "      <td>0.000000</td>\n",
              "      <td>0.119523</td>\n",
              "      <td>0.000000</td>\n",
              "      <td>0.0</td>\n",
              "      <td>0.0</td>\n",
              "      <td>0.0</td>\n",
              "      <td>0.119523</td>\n",
              "      <td>0.0</td>\n",
              "      <td>0.0</td>\n",
              "      <td>0.0</td>\n",
              "      <td>0.000000</td>\n",
              "      <td>0.0</td>\n",
              "      <td>0.000000</td>\n",
              "      <td>0.119523</td>\n",
              "      <td>0.119523</td>\n",
              "      <td>0.0</td>\n",
              "      <td>0.0</td>\n",
              "      <td>0.000000</td>\n",
              "      <td>0.0</td>\n",
              "      <td>0.0</td>\n",
              "      <td>0.000000</td>\n",
              "      <td>0.000000</td>\n",
              "      <td>0.119523</td>\n",
              "      <td>0.0</td>\n",
              "      <td>0.119523</td>\n",
              "      <td>0.0</td>\n",
              "      <td>0.000000</td>\n",
              "      <td>0.119523</td>\n",
              "      <td>0.000000</td>\n",
              "    </tr>\n",
              "    <tr>\n",
              "      <th>65420</th>\n",
              "      <td>0.122153</td>\n",
              "      <td>0.366459</td>\n",
              "      <td>0.122153</td>\n",
              "      <td>0.855072</td>\n",
              "      <td>0.016358</td>\n",
              "      <td>0.122153</td>\n",
              "      <td>0.000000</td>\n",
              "      <td>0.0</td>\n",
              "      <td>0.0</td>\n",
              "      <td>0.0</td>\n",
              "      <td>0.122153</td>\n",
              "      <td>0.0</td>\n",
              "      <td>0.0</td>\n",
              "      <td>0.0</td>\n",
              "      <td>0.000000</td>\n",
              "      <td>0.0</td>\n",
              "      <td>0.000000</td>\n",
              "      <td>0.122153</td>\n",
              "      <td>0.122153</td>\n",
              "      <td>0.0</td>\n",
              "      <td>0.0</td>\n",
              "      <td>0.000000</td>\n",
              "      <td>0.0</td>\n",
              "      <td>0.0</td>\n",
              "      <td>0.000000</td>\n",
              "      <td>0.000000</td>\n",
              "      <td>0.122153</td>\n",
              "      <td>0.0</td>\n",
              "      <td>0.122153</td>\n",
              "      <td>0.0</td>\n",
              "      <td>0.000000</td>\n",
              "      <td>0.122153</td>\n",
              "      <td>0.000000</td>\n",
              "    </tr>\n",
              "  </tbody>\n",
              "</table>\n",
              "<p>65421 rows × 33 columns</p>\n",
              "</div>"
            ],
            "text/plain": [
              "       Classe_Age_Situ_Cont  ...  Age_du_vehicule_> 5 ans\n",
              "0                  0.596130  ...                 0.000000\n",
              "1                  0.541791  ...                 0.108358\n",
              "2                  0.542157  ...                 0.108431\n",
              "3                  0.692925  ...                 0.000000\n",
              "4                  0.755575  ...                 0.000000\n",
              "...                     ...  ...                      ...\n",
              "65416              0.110427  ...                 0.000000\n",
              "65417              0.110510  ...                 0.000000\n",
              "65418              0.216923  ...                 0.108461\n",
              "65419              0.239046  ...                 0.000000\n",
              "65420              0.122153  ...                 0.000000\n",
              "\n",
              "[65421 rows x 33 columns]"
            ]
          },
          "metadata": {
            "tags": []
          },
          "execution_count": 3
        }
      ]
    },
    {
      "cell_type": "markdown",
      "metadata": {
        "id": "8S3jXYXFqKB1",
        "colab_type": "text"
      },
      "source": [
        "#### Adjusted rand index"
      ]
    },
    {
      "cell_type": "markdown",
      "metadata": {
        "id": "AWZMBs5aqLr8",
        "colab_type": "text"
      },
      "source": [
        "Pour avoir une baseline et mieux intepreter l'ARI, il est calculé ici pour un clustering **aléatoire**, pour un nombre de point à peu près égal à celui de notre base de données. L'ARI devrait dans ce cas valoir 0."
      ]
    },
    {
      "cell_type": "code",
      "metadata": {
        "id": "N5lTwyl8qLSU",
        "colab_type": "code",
        "colab": {}
      },
      "source": [
        "ari = 0\n",
        "for i in range(100):\n",
        "  clust_A = np.random.randint(low=0, high=4, size=65000)\n",
        "  clust_B = np.random.randint(low=0, high=4, size=65000)\n",
        "  ari += adjusted_rand_score(clust_A,clust_B)/100"
      ],
      "execution_count": 0,
      "outputs": []
    },
    {
      "cell_type": "code",
      "metadata": {
        "id": "SXWCocepsStP",
        "colab_type": "code",
        "colab": {
          "base_uri": "https://localhost:8080/",
          "height": 35
        },
        "outputId": "de353e2d-61d8-4155-9e3c-cb81643857cb"
      },
      "source": [
        "print(ari)"
      ],
      "execution_count": 30,
      "outputs": [
        {
          "output_type": "stream",
          "text": [
            "8.920638121083689e-07\n"
          ],
          "name": "stdout"
        }
      ]
    },
    {
      "cell_type": "markdown",
      "metadata": {
        "id": "uRxsbEuumq7s",
        "colab_type": "text"
      },
      "source": [
        "### KMeans"
      ]
    },
    {
      "cell_type": "markdown",
      "metadata": {
        "id": "4ueX9XktwPz0",
        "colab_type": "text"
      },
      "source": [
        "Essayons avec 5 clusters pour commencer !"
      ]
    },
    {
      "cell_type": "markdown",
      "metadata": {
        "id": "gfb5TCUhmq7t",
        "colab_type": "text"
      },
      "source": [
        "Train data"
      ]
    },
    {
      "cell_type": "code",
      "metadata": {
        "id": "I5o8eMAamq7t",
        "colab_type": "code",
        "colab": {}
      },
      "source": [
        "kmeans = KMeans(n_clusters=5, random_state=0).fit(train_data.drop([\"Freq_sinistre\"],axis=1))\n",
        "train_labels=kmeans.labels_"
      ],
      "execution_count": 0,
      "outputs": []
    },
    {
      "cell_type": "code",
      "metadata": {
        "id": "09-c7XCEmq7w",
        "colab_type": "code",
        "colab": {
          "base_uri": "https://localhost:8080/",
          "height": 35
        },
        "outputId": "809b6cd1-abf3-4601-a640-0bf840da1ddd"
      },
      "source": [
        "train_labels"
      ],
      "execution_count": 36,
      "outputs": [
        {
          "output_type": "execute_result",
          "data": {
            "text/plain": [
              "array([2, 2, 2, ..., 1, 1, 1], dtype=int32)"
            ]
          },
          "metadata": {
            "tags": []
          },
          "execution_count": 36
        }
      ]
    },
    {
      "cell_type": "markdown",
      "metadata": {
        "id": "WZrHNx2hmq7z",
        "colab_type": "text"
      },
      "source": [
        "All data"
      ]
    },
    {
      "cell_type": "code",
      "metadata": {
        "id": "aaw9jElWmq70",
        "colab_type": "code",
        "colab": {}
      },
      "source": [
        "kmeans = KMeans(n_clusters=5, random_state=0).fit(data.drop([\"Freq_sinistre\"],axis=1))\n",
        "labels=kmeans.labels_"
      ],
      "execution_count": 0,
      "outputs": []
    },
    {
      "cell_type": "code",
      "metadata": {
        "id": "Lwsx4Mdnmq73",
        "colab_type": "code",
        "colab": {}
      },
      "source": [
        "labels = labels[:len(train_labels)]"
      ],
      "execution_count": 0,
      "outputs": []
    },
    {
      "cell_type": "code",
      "metadata": {
        "id": "UhewBziBmq75",
        "colab_type": "code",
        "colab": {
          "base_uri": "https://localhost:8080/",
          "height": 35
        },
        "outputId": "ec65b78b-2294-49ff-be4d-e967e988d43c"
      },
      "source": [
        "adjusted_rand_score(labels,train_labels)"
      ],
      "execution_count": 39,
      "outputs": [
        {
          "output_type": "execute_result",
          "data": {
            "text/plain": [
              "0.6554226428562993"
            ]
          },
          "metadata": {
            "tags": []
          },
          "execution_count": 39
        }
      ]
    },
    {
      "cell_type": "markdown",
      "metadata": {
        "id": "DijnP4VQwSLz",
        "colab_type": "text"
      },
      "source": [
        "Le score ARI est nettement meilleur qu'avec les autres méthodes."
      ]
    },
    {
      "cell_type": "code",
      "metadata": {
        "id": "EquRzCYCwZzD",
        "colab_type": "code",
        "colab": {
          "base_uri": "https://localhost:8080/",
          "height": 177
        },
        "outputId": "37dc197a-e8d5-4048-bb2b-bc0544388c13"
      },
      "source": [
        "for n_clusters in range(1,10):\n",
        "  kmeans_train = KMeans(n_clusters=n_clusters, random_state=0).fit(train_data.drop([\"Freq_sinistre\"],axis=1))\n",
        "  train_labels=kmeans_train.labels_\n",
        "\n",
        "  kmeans = KMeans(n_clusters=n_clusters, random_state=0).fit(data.drop([\"Freq_sinistre\"],axis=1))\n",
        "  labels=kmeans.labels_\n",
        "\n",
        "  labels = labels[:len(train_labels)]\n",
        "  ari = adjusted_rand_score(labels,train_labels)\n",
        "  print(f\"{n_clusters} clusters : ARI = {ari}\")\n"
      ],
      "execution_count": 41,
      "outputs": [
        {
          "output_type": "stream",
          "text": [
            "1 clusters : ARI = 1.0\n",
            "2 clusters : ARI = 0.42320404919743526\n",
            "3 clusters : ARI = 0.6989080841732364\n",
            "4 clusters : ARI = 0.6509929162002065\n",
            "5 clusters : ARI = 0.6554226428562993\n",
            "6 clusters : ARI = 0.48580210153293424\n",
            "7 clusters : ARI = 0.447221279087362\n",
            "8 clusters : ARI = 0.6150717139609658\n",
            "9 clusters : ARI = 0.5631164380055969\n"
          ],
          "name": "stdout"
        }
      ]
    }
  ]
}