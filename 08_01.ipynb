{
 "cells": [
  {
   "cell_type": "code",
   "execution_count": 1,
   "metadata": {},
   "outputs": [],
   "source": [
    "from preprocessing import *\n",
    "from clustering import *\n",
    "import pandas as pd\n",
    "import seaborn as sns\n",
    "import matplotlib.pyplot as plt\n",
    "import time\n",
    "from sklearn.cluster import KMeans\n",
    "from sklearn.mixture import GaussianMixture\n",
    "from GMM import my_GMM_uniform_cluster\n",
    "data_contrats = pd.read_csv('train_contrats_approx.csv',sep=\",\")"
   ]
  },
  {
   "cell_type": "markdown",
   "metadata": {},
   "source": [
    "### Hierarchical clustering"
   ]
  },
  {
   "cell_type": "code",
   "execution_count": 4,
   "metadata": {},
   "outputs": [
    {
     "name": "stdout",
     "output_type": "stream",
     "text": [
      "time elapsed : 4.130580902099609 s\n"
     ]
    }
   ],
   "source": [
    "t=time.time()\n",
    "train_data,test_data = preprocessing(data_contrats, balance=True, train_size=0.75)\n",
    "train_data,centroids,mean_frequencies,std_frequencies,clusters = train_clustering(train_data,threshold=7.2)\n",
    "test_data = predict_clustering(test_data,centroids,clusters)\n",
    "stab=stabilite(train_data,test_data,mean_frequencies,std_frequencies,clusters)\n",
    "elapsed = time.time()-t\n",
    "print(\"time elapsed : {} s\".format(elapsed))"
   ]
  },
  {
   "cell_type": "code",
   "execution_count": 5,
   "metadata": {},
   "outputs": [
    {
     "data": {
      "text/html": [
       "<div>\n",
       "<style scoped>\n",
       "    .dataframe tbody tr th:only-of-type {\n",
       "        vertical-align: middle;\n",
       "    }\n",
       "\n",
       "    .dataframe tbody tr th {\n",
       "        vertical-align: top;\n",
       "    }\n",
       "\n",
       "    .dataframe thead th {\n",
       "        text-align: right;\n",
       "    }\n",
       "</style>\n",
       "<table border=\"1\" class=\"dataframe\">\n",
       "  <thead>\n",
       "    <tr style=\"text-align: right;\">\n",
       "      <th></th>\n",
       "      <th>mean_sinistre_train</th>\n",
       "      <th>mean_sinistre_train_test</th>\n",
       "      <th>std</th>\n",
       "      <th>diff</th>\n",
       "    </tr>\n",
       "  </thead>\n",
       "  <tbody>\n",
       "    <tr>\n",
       "      <th>0</th>\n",
       "      <td>0.009238</td>\n",
       "      <td>0.009119</td>\n",
       "      <td>0.018669</td>\n",
       "      <td>0.000119</td>\n",
       "    </tr>\n",
       "    <tr>\n",
       "      <th>1</th>\n",
       "      <td>0.007435</td>\n",
       "      <td>0.007080</td>\n",
       "      <td>0.018103</td>\n",
       "      <td>0.000355</td>\n",
       "    </tr>\n",
       "    <tr>\n",
       "      <th>2</th>\n",
       "      <td>0.009029</td>\n",
       "      <td>0.009125</td>\n",
       "      <td>0.019596</td>\n",
       "      <td>0.000096</td>\n",
       "    </tr>\n",
       "    <tr>\n",
       "      <th>3</th>\n",
       "      <td>0.004592</td>\n",
       "      <td>0.004994</td>\n",
       "      <td>0.011627</td>\n",
       "      <td>0.000402</td>\n",
       "    </tr>\n",
       "    <tr>\n",
       "      <th>4</th>\n",
       "      <td>0.007174</td>\n",
       "      <td>0.007007</td>\n",
       "      <td>0.015669</td>\n",
       "      <td>0.000167</td>\n",
       "    </tr>\n",
       "  </tbody>\n",
       "</table>\n",
       "</div>"
      ],
      "text/plain": [
       "   mean_sinistre_train  mean_sinistre_train_test       std      diff\n",
       "0             0.009238                  0.009119  0.018669  0.000119\n",
       "1             0.007435                  0.007080  0.018103  0.000355\n",
       "2             0.009029                  0.009125  0.019596  0.000096\n",
       "3             0.004592                  0.004994  0.011627  0.000402\n",
       "4             0.007174                  0.007007  0.015669  0.000167"
      ]
     },
     "execution_count": 5,
     "metadata": {},
     "output_type": "execute_result"
    }
   ],
   "source": [
    "stab_1=pd.DataFrame(stab,columns=['mean_sinistre_train',\"mean_sinistre_train_test\",\"std\",\"diff\"])\n",
    "stab_1"
   ]
  },
  {
   "cell_type": "markdown",
   "metadata": {},
   "source": [
    "### GMM clustering"
   ]
  },
  {
   "cell_type": "code",
   "execution_count": 6,
   "metadata": {},
   "outputs": [
    {
     "name": "stderr",
     "output_type": "stream",
     "text": [
      "/home/hrami/Documents/Mazars/Projet_Option_Mazars/preprocessing.py:43: SettingWithCopyWarning: \n",
      "A value is trying to be set on a copy of a slice from a DataFrame.\n",
      "Try using .loc[row_indexer,col_indexer] = value instead\n",
      "\n",
      "See the caveats in the documentation: http://pandas.pydata.org/pandas-docs/stable/indexing.html#indexing-view-versus-copy\n",
      "  data_clustering[\"Classe_Age_Situ_Cont\"]=data_clustering[\"Classe_Age_Situ_Cont\"].apply(classe_age)\n",
      "/home/hrami/Documents/Mazars/Projet_Option_Mazars/preprocessing.py:44: SettingWithCopyWarning: \n",
      "A value is trying to be set on a copy of a slice from a DataFrame.\n",
      "Try using .loc[row_indexer,col_indexer] = value instead\n",
      "\n",
      "See the caveats in the documentation: http://pandas.pydata.org/pandas-docs/stable/indexing.html#indexing-view-versus-copy\n",
      "  data_clustering[\"franchise\"]=data_clustering[\"franchise\"].apply(franchise_)\n",
      "/home/hrami/anaconda3/lib/python3.7/site-packages/pandas/core/frame.py:3391: SettingWithCopyWarning: \n",
      "A value is trying to be set on a copy of a slice from a DataFrame.\n",
      "Try using .loc[row_indexer,col_indexer] = value instead\n",
      "\n",
      "See the caveats in the documentation: http://pandas.pydata.org/pandas-docs/stable/indexing.html#indexing-view-versus-copy\n",
      "  self[k1] = value[k2]\n"
     ]
    },
    {
     "name": "stdout",
     "output_type": "stream",
     "text": [
      "time elapsed : 3.9553704261779785 s\n"
     ]
    }
   ],
   "source": [
    "train_data,test_data = preprocessing(data_contrats, balance=False, train_size=0.75)\n",
    "t= time.time()\n",
    "estimator = GaussianMixture(n_components=5,\n",
    "              covariance_type='full', max_iter=500, random_state=0)\n",
    "GMM_full_labels=estimator.fit_predict(train_data.drop([\"Freq_sinistre\"],axis=1))\n",
    "elapsed = time.time()-t\n",
    "print(\"time elapsed : {} s\".format(elapsed))"
   ]
  },
  {
   "cell_type": "code",
   "execution_count": 36,
   "metadata": {},
   "outputs": [],
   "source": [
    "train_data[\"clusters\"]=GMM_full_labels\n",
    "test_data['clusters']=estimator.predict(test_data.drop([\"Freq_sinistre\"],axis=1))\n",
    "all_data = pd.concat([train_data,test_data],ignore_index=True)"
   ]
  },
  {
   "cell_type": "code",
   "execution_count": 37,
   "metadata": {},
   "outputs": [
    {
     "data": {
      "text/html": [
       "<div>\n",
       "<style scoped>\n",
       "    .dataframe tbody tr th:only-of-type {\n",
       "        vertical-align: middle;\n",
       "    }\n",
       "\n",
       "    .dataframe tbody tr th {\n",
       "        vertical-align: top;\n",
       "    }\n",
       "\n",
       "    .dataframe thead th {\n",
       "        text-align: right;\n",
       "    }\n",
       "</style>\n",
       "<table border=\"1\" class=\"dataframe\">\n",
       "  <thead>\n",
       "    <tr style=\"text-align: right;\">\n",
       "      <th></th>\n",
       "      <th>mean_sinistre_train</th>\n",
       "      <th>mean_sinistre_train_test</th>\n",
       "      <th>diff</th>\n",
       "    </tr>\n",
       "    <tr>\n",
       "      <th>clusters</th>\n",
       "      <th></th>\n",
       "      <th></th>\n",
       "      <th></th>\n",
       "    </tr>\n",
       "  </thead>\n",
       "  <tbody>\n",
       "    <tr>\n",
       "      <th>0</th>\n",
       "      <td>0.001623</td>\n",
       "      <td>0.001656</td>\n",
       "      <td>0.000033</td>\n",
       "    </tr>\n",
       "    <tr>\n",
       "      <th>1</th>\n",
       "      <td>0.001414</td>\n",
       "      <td>0.001443</td>\n",
       "      <td>0.000030</td>\n",
       "    </tr>\n",
       "    <tr>\n",
       "      <th>2</th>\n",
       "      <td>0.001421</td>\n",
       "      <td>0.001432</td>\n",
       "      <td>0.000011</td>\n",
       "    </tr>\n",
       "    <tr>\n",
       "      <th>3</th>\n",
       "      <td>0.001022</td>\n",
       "      <td>0.001287</td>\n",
       "      <td>0.000265</td>\n",
       "    </tr>\n",
       "    <tr>\n",
       "      <th>4</th>\n",
       "      <td>0.001646</td>\n",
       "      <td>0.001747</td>\n",
       "      <td>0.000101</td>\n",
       "    </tr>\n",
       "  </tbody>\n",
       "</table>\n",
       "</div>"
      ],
      "text/plain": [
       "          mean_sinistre_train  mean_sinistre_train_test      diff\n",
       "clusters                                                         \n",
       "0                    0.001623                  0.001656  0.000033\n",
       "1                    0.001414                  0.001443  0.000030\n",
       "2                    0.001421                  0.001432  0.000011\n",
       "3                    0.001022                  0.001287  0.000265\n",
       "4                    0.001646                  0.001747  0.000101"
      ]
     },
     "execution_count": 37,
     "metadata": {},
     "output_type": "execute_result"
    }
   ],
   "source": [
    "stab_2=pd.concat([train_data.groupby('clusters').mean()[[\"Freq_sinistre\"]],all_data.groupby('clusters').mean()[[\"Freq_sinistre\"]]],axis=1)\n",
    "stab_2.columns=[\"mean_sinistre_train\",\"mean_sinistre_train_test\"]\n",
    "stab_2[\"diff\"]=np.abs(stab_2[\"mean_sinistre_train\"]-stab_2[\"mean_sinistre_train_test\"])\n",
    "stab_2"
   ]
  },
  {
   "cell_type": "markdown",
   "metadata": {},
   "source": [
    "### KMeans"
   ]
  },
  {
   "cell_type": "code",
   "execution_count": 40,
   "metadata": {},
   "outputs": [
    {
     "name": "stderr",
     "output_type": "stream",
     "text": [
      "/home/hrami/Documents/Mazars/Projet_Option_Mazars/preprocessing.py:43: SettingWithCopyWarning: \n",
      "A value is trying to be set on a copy of a slice from a DataFrame.\n",
      "Try using .loc[row_indexer,col_indexer] = value instead\n",
      "\n",
      "See the caveats in the documentation: http://pandas.pydata.org/pandas-docs/stable/indexing.html#indexing-view-versus-copy\n",
      "  data_clustering[\"Classe_Age_Situ_Cont\"]=data_clustering[\"Classe_Age_Situ_Cont\"].apply(classe_age)\n",
      "/home/hrami/Documents/Mazars/Projet_Option_Mazars/preprocessing.py:44: SettingWithCopyWarning: \n",
      "A value is trying to be set on a copy of a slice from a DataFrame.\n",
      "Try using .loc[row_indexer,col_indexer] = value instead\n",
      "\n",
      "See the caveats in the documentation: http://pandas.pydata.org/pandas-docs/stable/indexing.html#indexing-view-versus-copy\n",
      "  data_clustering[\"franchise\"]=data_clustering[\"franchise\"].apply(franchise_)\n",
      "/home/hrami/anaconda3/lib/python3.7/site-packages/pandas/core/frame.py:3391: SettingWithCopyWarning: \n",
      "A value is trying to be set on a copy of a slice from a DataFrame.\n",
      "Try using .loc[row_indexer,col_indexer] = value instead\n",
      "\n",
      "See the caveats in the documentation: http://pandas.pydata.org/pandas-docs/stable/indexing.html#indexing-view-versus-copy\n",
      "  self[k1] = value[k2]\n"
     ]
    },
    {
     "name": "stdout",
     "output_type": "stream",
     "text": [
      "time elapsed : 2.352850914001465 s\n"
     ]
    }
   ],
   "source": [
    "train_data,test_data = preprocessing(data_contrats, balance=False, train_size=0.75)\n",
    "t= time.time()\n",
    "kmeans = KMeans(n_clusters=5, random_state=0).fit(train_data.drop([\"Freq_sinistre\"],axis=1))\n",
    "train_labels=kmeans.labels_\n",
    "test_labels=kmeans.predict(test_data.drop([\"Freq_sinistre\"],axis=1))\n",
    "elapsed = time.time()-t\n",
    "print(\"time elapsed : {} s\".format(elapsed))"
   ]
  },
  {
   "cell_type": "code",
   "execution_count": 41,
   "metadata": {},
   "outputs": [],
   "source": [
    "train_data[\"clusters\"]=train_labels\n",
    "test_data['clusters']=test_labels\n",
    "all_data = pd.concat([train_data,test_data],ignore_index=True)"
   ]
  },
  {
   "cell_type": "code",
   "execution_count": 42,
   "metadata": {},
   "outputs": [
    {
     "data": {
      "text/html": [
       "<div>\n",
       "<style scoped>\n",
       "    .dataframe tbody tr th:only-of-type {\n",
       "        vertical-align: middle;\n",
       "    }\n",
       "\n",
       "    .dataframe tbody tr th {\n",
       "        vertical-align: top;\n",
       "    }\n",
       "\n",
       "    .dataframe thead th {\n",
       "        text-align: right;\n",
       "    }\n",
       "</style>\n",
       "<table border=\"1\" class=\"dataframe\">\n",
       "  <thead>\n",
       "    <tr style=\"text-align: right;\">\n",
       "      <th></th>\n",
       "      <th>mean_sinistre_train</th>\n",
       "      <th>mean_sinistre_train_test</th>\n",
       "      <th>diff</th>\n",
       "    </tr>\n",
       "    <tr>\n",
       "      <th>clusters</th>\n",
       "      <th></th>\n",
       "      <th></th>\n",
       "      <th></th>\n",
       "    </tr>\n",
       "  </thead>\n",
       "  <tbody>\n",
       "    <tr>\n",
       "      <th>0</th>\n",
       "      <td>0.001636</td>\n",
       "      <td>0.001658</td>\n",
       "      <td>0.000022</td>\n",
       "    </tr>\n",
       "    <tr>\n",
       "      <th>1</th>\n",
       "      <td>0.001574</td>\n",
       "      <td>0.001612</td>\n",
       "      <td>0.000038</td>\n",
       "    </tr>\n",
       "    <tr>\n",
       "      <th>2</th>\n",
       "      <td>0.001727</td>\n",
       "      <td>0.001751</td>\n",
       "      <td>0.000025</td>\n",
       "    </tr>\n",
       "    <tr>\n",
       "      <th>3</th>\n",
       "      <td>0.001200</td>\n",
       "      <td>0.001203</td>\n",
       "      <td>0.000003</td>\n",
       "    </tr>\n",
       "    <tr>\n",
       "      <th>4</th>\n",
       "      <td>0.001721</td>\n",
       "      <td>0.001727</td>\n",
       "      <td>0.000005</td>\n",
       "    </tr>\n",
       "  </tbody>\n",
       "</table>\n",
       "</div>"
      ],
      "text/plain": [
       "          mean_sinistre_train  mean_sinistre_train_test      diff\n",
       "clusters                                                         \n",
       "0                    0.001636                  0.001658  0.000022\n",
       "1                    0.001574                  0.001612  0.000038\n",
       "2                    0.001727                  0.001751  0.000025\n",
       "3                    0.001200                  0.001203  0.000003\n",
       "4                    0.001721                  0.001727  0.000005"
      ]
     },
     "execution_count": 42,
     "metadata": {},
     "output_type": "execute_result"
    }
   ],
   "source": [
    "stab_3=pd.concat([train_data.groupby('clusters').mean()[[\"Freq_sinistre\"]],all_data.groupby('clusters').mean()[[\"Freq_sinistre\"]]],axis=1)\n",
    "stab_3.columns=[\"mean_sinistre_train\",\"mean_sinistre_train_test\"]\n",
    "stab_3[\"diff\"]=np.abs(stab_3[\"mean_sinistre_train\"]-stab_3[\"mean_sinistre_train_test\"])\n",
    "stab_3"
   ]
  },
  {
   "cell_type": "code",
   "execution_count": 44,
   "metadata": {},
   "outputs": [
    {
     "name": "stdout",
     "output_type": "stream",
     "text": [
      "mean diff with hierarchical clustering : 0.0002671629813762611\n",
      "mean diff with GMM clustering : 8.7964590524745e-05\n",
      "mean diff with Kmeans clustering : 1.8585773869422752e-05\n"
     ]
    }
   ],
   "source": [
    "print(\"mean diff with hierarchical clustering : {}\".format(stab_1[\"diff\"].mean()))\n",
    "print(\"mean diff with GMM clustering : {}\".format(stab_2[\"diff\"].mean()))\n",
    "print(\"mean diff with Kmeans clustering : {}\".format(stab_3[\"diff\"].mean()))"
   ]
  },
  {
   "cell_type": "markdown",
   "metadata": {},
   "source": [
    "### Heatmap correlations"
   ]
  },
  {
   "cell_type": "code",
   "execution_count": 41,
   "metadata": {},
   "outputs": [
    {
     "data": {
      "text/plain": [
       "<matplotlib.axes._subplots.AxesSubplot at 0x7f927c11f9b0>"
      ]
     },
     "execution_count": 41,
     "metadata": {},
     "output_type": "execute_result"
    },
    {
     "data": {
      "image/png": "[encoded data removed]",
      "text/plain": [
       "<Figure size 792x648 with 2 Axes>"
      ]
     },
     "metadata": {
      "needs_background": "light"
     },
     "output_type": "display_data"
    }
   ],
   "source": [
    "corr = df.corr()\n",
    "mask = np.zeros_like(corr, dtype=np.bool)\n",
    "mask[np.triu_indices_from(mask)] = True\n",
    "\n",
    "# Set up the matplotlib figure\n",
    "f, ax = plt.subplots(figsize=(11, 9))\n",
    "\n",
    "# Generate a custom diverging colormap\n",
    "cmap = sns.diverging_palette(220, 10, as_cmap=True)\n",
    "\n",
    "# Draw the heatmap with the mask and correct aspect ratio\n",
    "sns.heatmap(corr, mask=mask, cmap=cmap, vmax=.3, center=0,\n",
    "            square=True, linewidths=.5, cbar_kws={\"shrink\": .5})"
   ]
  },
  {
   "cell_type": "markdown",
   "metadata": {},
   "source": [
    "### My_GMM"
   ]
  },
  {
   "cell_type": "code",
   "execution_count": null,
   "metadata": {},
   "outputs": [],
   "source": []
  }
 ],
 "metadata": {
  "kernelspec": {
   "display_name": "Python 3",
   "language": "python",
   "name": "python3"
  },
  "language_info": {
   "codemirror_mode": {
    "name": "ipython",
    "version": 3
   },
   "file_extension": ".py",
   "mimetype": "text/x-python",
   "name": "python",
   "nbconvert_exporter": "python",
   "pygments_lexer": "ipython3",
   "version": "3.7.3"
  }
 },
 "nbformat": 4,
 "nbformat_minor": 2
}
