{
  "nbformat": 4,
  "nbformat_minor": 0,
  "metadata": {
    "kernelspec": {
      "display_name": "Python 3",
      "language": "python",
      "name": "python3"
    },
    "language_info": {
      "codemirror_mode": {
        "name": "ipython",
        "version": 3
      },
      "file_extension": ".py",
      "mimetype": "text/x-python",
      "name": "python",
      "nbconvert_exporter": "python",
      "pygments_lexer": "ipython3",
      "version": "3.7.4"
    },
    "colab": {
      "name": "Approximation de Freq_sinistres.ipynb",
      "provenance": [],
      "collapsed_sections": []
    }
  },
  "cells": [
    {
      "cell_type": "code",
      "metadata": {
        "id": "e8_SMfgamW_t",
        "colab_type": "code",
        "colab": {}
      },
      "source": [
        "import os\n",
        "os.chdir(\"./Temp\")"
      ],
      "execution_count": 0,
      "outputs": []
    },
    {
      "cell_type": "code",
      "metadata": {
        "id": "qdj7mxpbmRXL",
        "colab_type": "code",
        "colab": {}
      },
      "source": [
        "from preprocessing import *\n",
        "import matplotlib\n",
        "import matplotlib.pyplot as plt\n",
        "from sklearn.neighbors import KDTree\n",
        "\n",
        "matplotlib.rcParams['figure.figsize'] = [15,5]\n",
        "\n",
        "data_contrats = pd.read_csv('train_contrats.csv',sep=\";\", engine=\"python\")\n",
        "data_contrats[\"Freq_sinistre\"] = data_contrats[\"nombre_de_sinistre\"]/data_contrats[\"Exposition_au_risque\"]"
      ],
      "execution_count": 0,
      "outputs": []
    },
    {
      "cell_type": "code",
      "metadata": {
        "id": "-3-stMtUmRXO",
        "colab_type": "code",
        "colab": {
          "base_uri": "https://localhost:8080/",
          "height": 336
        },
        "outputId": "19a0a9ce-d588-4130-f8ec-b999d972c2aa"
      },
      "source": [
        "df = preprocessing(data_contrats, balance=False, train_size=1)[0]\n",
        "#df = df[:10000]\n",
        "X = df.drop(\"Freq_sinistre\", axis=1, inplace=False).to_numpy()\n",
        "Y = np.array(df[\"Freq_sinistre\"])"
      ],
      "execution_count": 16,
      "outputs": [
        {
          "output_type": "stream",
          "text": [
            "/content/Temp/preprocessing.py:43: SettingWithCopyWarning: \n",
            "A value is trying to be set on a copy of a slice from a DataFrame.\n",
            "Try using .loc[row_indexer,col_indexer] = value instead\n",
            "\n",
            "See the caveats in the documentation: http://pandas.pydata.org/pandas-docs/stable/user_guide/indexing.html#returning-a-view-versus-a-copy\n",
            "  data_clustering[\"Classe_Age_Situ_Cont\"]=data_clustering[\"Classe_Age_Situ_Cont\"].apply(classe_age)\n",
            "/content/Temp/preprocessing.py:44: SettingWithCopyWarning: \n",
            "A value is trying to be set on a copy of a slice from a DataFrame.\n",
            "Try using .loc[row_indexer,col_indexer] = value instead\n",
            "\n",
            "See the caveats in the documentation: http://pandas.pydata.org/pandas-docs/stable/user_guide/indexing.html#returning-a-view-versus-a-copy\n",
            "  data_clustering[\"franchise\"]=data_clustering[\"franchise\"].apply(franchise_)\n",
            "/usr/local/lib/python3.6/dist-packages/pandas/core/frame.py:3509: SettingWithCopyWarning: \n",
            "A value is trying to be set on a copy of a slice from a DataFrame.\n",
            "Try using .loc[row_indexer,col_indexer] = value instead\n",
            "\n",
            "See the caveats in the documentation: http://pandas.pydata.org/pandas-docs/stable/user_guide/indexing.html#returning-a-view-versus-a-copy\n",
            "  self[k1] = value[k2]\n"
          ],
          "name": "stderr"
        }
      ]
    },
    {
      "cell_type": "code",
      "metadata": {
        "id": "obaQ-lJ9mRXT",
        "colab_type": "code",
        "colab": {
          "base_uri": "https://localhost:8080/",
          "height": 443
        },
        "outputId": "43b430fe-e197-4483-b6ef-93617da4c6d6"
      },
      "source": [
        "df"
      ],
      "execution_count": 17,
      "outputs": [
        {
          "output_type": "execute_result",
          "data": {
            "text/html": [
              "<div>\n",
              "<style scoped>\n",
              "    .dataframe tbody tr th:only-of-type {\n",
              "        vertical-align: middle;\n",
              "    }\n",
              "\n",
              "    .dataframe tbody tr th {\n",
              "        vertical-align: top;\n",
              "    }\n",
              "\n",
              "    .dataframe thead th {\n",
              "        text-align: right;\n",
              "    }\n",
              "</style>\n",
              "<table border=\"1\" class=\"dataframe\">\n",
              "  <thead>\n",
              "    <tr style=\"text-align: right;\">\n",
              "      <th></th>\n",
              "      <th>Classe_Age_Situ_Cont</th>\n",
              "      <th>franchise</th>\n",
              "      <th>Exposition_au_risque</th>\n",
              "      <th>ValeurPuissance</th>\n",
              "      <th>Freq_sinistre</th>\n",
              "      <th>Type_Apporteur_1</th>\n",
              "      <th>Type_Apporteur_2</th>\n",
              "      <th>Type_Apporteur_3</th>\n",
              "      <th>Activite_1</th>\n",
              "      <th>Activite_2</th>\n",
              "      <th>Activite_3</th>\n",
              "      <th>Activite_4</th>\n",
              "      <th>Activite_5</th>\n",
              "      <th>Activite_6</th>\n",
              "      <th>Activite_7</th>\n",
              "      <th>Activite_8</th>\n",
              "      <th>Mode_gestion_N</th>\n",
              "      <th>Mode_gestion_P</th>\n",
              "      <th>Zone_1</th>\n",
              "      <th>Zone_2</th>\n",
              "      <th>Zone_3</th>\n",
              "      <th>Zone_4</th>\n",
              "      <th>Zone_5</th>\n",
              "      <th>Zone_6</th>\n",
              "      <th>Fractionnement_A</th>\n",
              "      <th>Fractionnement_S</th>\n",
              "      <th>Fractionnement_T</th>\n",
              "      <th>FORMULE_2</th>\n",
              "      <th>FORMULE_3</th>\n",
              "      <th>FORMULE_4</th>\n",
              "      <th>FORMULE_5</th>\n",
              "      <th>Age_du_vehicule_&lt;= 5 ans</th>\n",
              "      <th>Age_du_vehicule_&gt; 5 ans</th>\n",
              "    </tr>\n",
              "  </thead>\n",
              "  <tbody>\n",
              "    <tr>\n",
              "      <th>0</th>\n",
              "      <td>0.596130</td>\n",
              "      <td>0.298065</td>\n",
              "      <td>0.054645</td>\n",
              "      <td>0.695485</td>\n",
              "      <td>0.0</td>\n",
              "      <td>0.099355</td>\n",
              "      <td>0.000000</td>\n",
              "      <td>0.0</td>\n",
              "      <td>0.0</td>\n",
              "      <td>0.0</td>\n",
              "      <td>0.099355</td>\n",
              "      <td>0.0</td>\n",
              "      <td>0.0</td>\n",
              "      <td>0.000000</td>\n",
              "      <td>0.000000</td>\n",
              "      <td>0.0</td>\n",
              "      <td>0.099355</td>\n",
              "      <td>0.0</td>\n",
              "      <td>0.0</td>\n",
              "      <td>0.000000</td>\n",
              "      <td>0.0</td>\n",
              "      <td>0.099355</td>\n",
              "      <td>0.0</td>\n",
              "      <td>0.0</td>\n",
              "      <td>0.099355</td>\n",
              "      <td>0.000000</td>\n",
              "      <td>0.000000</td>\n",
              "      <td>0.0</td>\n",
              "      <td>0.000000</td>\n",
              "      <td>0.0</td>\n",
              "      <td>0.099355</td>\n",
              "      <td>0.099355</td>\n",
              "      <td>0.000000</td>\n",
              "    </tr>\n",
              "    <tr>\n",
              "      <th>1</th>\n",
              "      <td>0.541791</td>\n",
              "      <td>0.216716</td>\n",
              "      <td>0.044427</td>\n",
              "      <td>0.758507</td>\n",
              "      <td>0.0</td>\n",
              "      <td>0.000000</td>\n",
              "      <td>0.108358</td>\n",
              "      <td>0.0</td>\n",
              "      <td>0.0</td>\n",
              "      <td>0.0</td>\n",
              "      <td>0.000000</td>\n",
              "      <td>0.0</td>\n",
              "      <td>0.0</td>\n",
              "      <td>0.000000</td>\n",
              "      <td>0.108358</td>\n",
              "      <td>0.0</td>\n",
              "      <td>0.108358</td>\n",
              "      <td>0.0</td>\n",
              "      <td>0.0</td>\n",
              "      <td>0.000000</td>\n",
              "      <td>0.0</td>\n",
              "      <td>0.108358</td>\n",
              "      <td>0.0</td>\n",
              "      <td>0.0</td>\n",
              "      <td>0.000000</td>\n",
              "      <td>0.108358</td>\n",
              "      <td>0.000000</td>\n",
              "      <td>0.0</td>\n",
              "      <td>0.108358</td>\n",
              "      <td>0.0</td>\n",
              "      <td>0.000000</td>\n",
              "      <td>0.000000</td>\n",
              "      <td>0.108358</td>\n",
              "    </tr>\n",
              "    <tr>\n",
              "      <th>2</th>\n",
              "      <td>0.542157</td>\n",
              "      <td>0.216863</td>\n",
              "      <td>0.024939</td>\n",
              "      <td>0.759020</td>\n",
              "      <td>0.0</td>\n",
              "      <td>0.000000</td>\n",
              "      <td>0.108431</td>\n",
              "      <td>0.0</td>\n",
              "      <td>0.0</td>\n",
              "      <td>0.0</td>\n",
              "      <td>0.000000</td>\n",
              "      <td>0.0</td>\n",
              "      <td>0.0</td>\n",
              "      <td>0.000000</td>\n",
              "      <td>0.108431</td>\n",
              "      <td>0.0</td>\n",
              "      <td>0.108431</td>\n",
              "      <td>0.0</td>\n",
              "      <td>0.0</td>\n",
              "      <td>0.000000</td>\n",
              "      <td>0.0</td>\n",
              "      <td>0.108431</td>\n",
              "      <td>0.0</td>\n",
              "      <td>0.0</td>\n",
              "      <td>0.000000</td>\n",
              "      <td>0.108431</td>\n",
              "      <td>0.000000</td>\n",
              "      <td>0.0</td>\n",
              "      <td>0.108431</td>\n",
              "      <td>0.0</td>\n",
              "      <td>0.000000</td>\n",
              "      <td>0.000000</td>\n",
              "      <td>0.108431</td>\n",
              "    </tr>\n",
              "    <tr>\n",
              "      <th>3</th>\n",
              "      <td>0.692925</td>\n",
              "      <td>0.277170</td>\n",
              "      <td>0.036032</td>\n",
              "      <td>0.554340</td>\n",
              "      <td>0.0</td>\n",
              "      <td>0.000000</td>\n",
              "      <td>0.138585</td>\n",
              "      <td>0.0</td>\n",
              "      <td>0.0</td>\n",
              "      <td>0.0</td>\n",
              "      <td>0.000000</td>\n",
              "      <td>0.0</td>\n",
              "      <td>0.0</td>\n",
              "      <td>0.000000</td>\n",
              "      <td>0.138585</td>\n",
              "      <td>0.0</td>\n",
              "      <td>0.138585</td>\n",
              "      <td>0.0</td>\n",
              "      <td>0.0</td>\n",
              "      <td>0.000000</td>\n",
              "      <td>0.0</td>\n",
              "      <td>0.138585</td>\n",
              "      <td>0.0</td>\n",
              "      <td>0.0</td>\n",
              "      <td>0.000000</td>\n",
              "      <td>0.138585</td>\n",
              "      <td>0.000000</td>\n",
              "      <td>0.0</td>\n",
              "      <td>0.000000</td>\n",
              "      <td>0.0</td>\n",
              "      <td>0.138585</td>\n",
              "      <td>0.138585</td>\n",
              "      <td>0.000000</td>\n",
              "    </tr>\n",
              "    <tr>\n",
              "      <th>4</th>\n",
              "      <td>0.755584</td>\n",
              "      <td>0.251861</td>\n",
              "      <td>0.030223</td>\n",
              "      <td>0.503722</td>\n",
              "      <td>0.0</td>\n",
              "      <td>0.000000</td>\n",
              "      <td>0.125931</td>\n",
              "      <td>0.0</td>\n",
              "      <td>0.0</td>\n",
              "      <td>0.0</td>\n",
              "      <td>0.000000</td>\n",
              "      <td>0.0</td>\n",
              "      <td>0.0</td>\n",
              "      <td>0.000000</td>\n",
              "      <td>0.125931</td>\n",
              "      <td>0.0</td>\n",
              "      <td>0.125931</td>\n",
              "      <td>0.0</td>\n",
              "      <td>0.0</td>\n",
              "      <td>0.000000</td>\n",
              "      <td>0.0</td>\n",
              "      <td>0.125931</td>\n",
              "      <td>0.0</td>\n",
              "      <td>0.0</td>\n",
              "      <td>0.000000</td>\n",
              "      <td>0.125931</td>\n",
              "      <td>0.000000</td>\n",
              "      <td>0.0</td>\n",
              "      <td>0.000000</td>\n",
              "      <td>0.0</td>\n",
              "      <td>0.125931</td>\n",
              "      <td>0.125931</td>\n",
              "      <td>0.000000</td>\n",
              "    </tr>\n",
              "    <tr>\n",
              "      <th>...</th>\n",
              "      <td>...</td>\n",
              "      <td>...</td>\n",
              "      <td>...</td>\n",
              "      <td>...</td>\n",
              "      <td>...</td>\n",
              "      <td>...</td>\n",
              "      <td>...</td>\n",
              "      <td>...</td>\n",
              "      <td>...</td>\n",
              "      <td>...</td>\n",
              "      <td>...</td>\n",
              "      <td>...</td>\n",
              "      <td>...</td>\n",
              "      <td>...</td>\n",
              "      <td>...</td>\n",
              "      <td>...</td>\n",
              "      <td>...</td>\n",
              "      <td>...</td>\n",
              "      <td>...</td>\n",
              "      <td>...</td>\n",
              "      <td>...</td>\n",
              "      <td>...</td>\n",
              "      <td>...</td>\n",
              "      <td>...</td>\n",
              "      <td>...</td>\n",
              "      <td>...</td>\n",
              "      <td>...</td>\n",
              "      <td>...</td>\n",
              "      <td>...</td>\n",
              "      <td>...</td>\n",
              "      <td>...</td>\n",
              "      <td>...</td>\n",
              "      <td>...</td>\n",
              "    </tr>\n",
              "    <tr>\n",
              "      <th>87223</th>\n",
              "      <td>0.612123</td>\n",
              "      <td>0.204041</td>\n",
              "      <td>0.028566</td>\n",
              "      <td>0.714143</td>\n",
              "      <td>0.0</td>\n",
              "      <td>0.102020</td>\n",
              "      <td>0.000000</td>\n",
              "      <td>0.0</td>\n",
              "      <td>0.0</td>\n",
              "      <td>0.0</td>\n",
              "      <td>0.000000</td>\n",
              "      <td>0.0</td>\n",
              "      <td>0.0</td>\n",
              "      <td>0.102020</td>\n",
              "      <td>0.000000</td>\n",
              "      <td>0.0</td>\n",
              "      <td>0.102020</td>\n",
              "      <td>0.0</td>\n",
              "      <td>0.0</td>\n",
              "      <td>0.102020</td>\n",
              "      <td>0.0</td>\n",
              "      <td>0.000000</td>\n",
              "      <td>0.0</td>\n",
              "      <td>0.0</td>\n",
              "      <td>0.000000</td>\n",
              "      <td>0.000000</td>\n",
              "      <td>0.102020</td>\n",
              "      <td>0.0</td>\n",
              "      <td>0.102020</td>\n",
              "      <td>0.0</td>\n",
              "      <td>0.000000</td>\n",
              "      <td>0.102020</td>\n",
              "      <td>0.000000</td>\n",
              "    </tr>\n",
              "    <tr>\n",
              "      <th>87224</th>\n",
              "      <td>0.612123</td>\n",
              "      <td>0.204041</td>\n",
              "      <td>0.028566</td>\n",
              "      <td>0.714143</td>\n",
              "      <td>0.0</td>\n",
              "      <td>0.102020</td>\n",
              "      <td>0.000000</td>\n",
              "      <td>0.0</td>\n",
              "      <td>0.0</td>\n",
              "      <td>0.0</td>\n",
              "      <td>0.000000</td>\n",
              "      <td>0.0</td>\n",
              "      <td>0.0</td>\n",
              "      <td>0.102020</td>\n",
              "      <td>0.000000</td>\n",
              "      <td>0.0</td>\n",
              "      <td>0.102020</td>\n",
              "      <td>0.0</td>\n",
              "      <td>0.0</td>\n",
              "      <td>0.102020</td>\n",
              "      <td>0.0</td>\n",
              "      <td>0.000000</td>\n",
              "      <td>0.0</td>\n",
              "      <td>0.0</td>\n",
              "      <td>0.000000</td>\n",
              "      <td>0.000000</td>\n",
              "      <td>0.102020</td>\n",
              "      <td>0.0</td>\n",
              "      <td>0.102020</td>\n",
              "      <td>0.0</td>\n",
              "      <td>0.000000</td>\n",
              "      <td>0.102020</td>\n",
              "      <td>0.000000</td>\n",
              "    </tr>\n",
              "    <tr>\n",
              "      <th>87225</th>\n",
              "      <td>0.612291</td>\n",
              "      <td>0.204097</td>\n",
              "      <td>0.016328</td>\n",
              "      <td>0.714339</td>\n",
              "      <td>0.0</td>\n",
              "      <td>0.102048</td>\n",
              "      <td>0.000000</td>\n",
              "      <td>0.0</td>\n",
              "      <td>0.0</td>\n",
              "      <td>0.0</td>\n",
              "      <td>0.000000</td>\n",
              "      <td>0.0</td>\n",
              "      <td>0.0</td>\n",
              "      <td>0.102048</td>\n",
              "      <td>0.000000</td>\n",
              "      <td>0.0</td>\n",
              "      <td>0.102048</td>\n",
              "      <td>0.0</td>\n",
              "      <td>0.0</td>\n",
              "      <td>0.102048</td>\n",
              "      <td>0.0</td>\n",
              "      <td>0.000000</td>\n",
              "      <td>0.0</td>\n",
              "      <td>0.0</td>\n",
              "      <td>0.000000</td>\n",
              "      <td>0.000000</td>\n",
              "      <td>0.102048</td>\n",
              "      <td>0.0</td>\n",
              "      <td>0.102048</td>\n",
              "      <td>0.0</td>\n",
              "      <td>0.000000</td>\n",
              "      <td>0.000000</td>\n",
              "      <td>0.102048</td>\n",
              "    </tr>\n",
              "    <tr>\n",
              "      <th>87226</th>\n",
              "      <td>0.612123</td>\n",
              "      <td>0.204041</td>\n",
              "      <td>0.028566</td>\n",
              "      <td>0.714143</td>\n",
              "      <td>0.0</td>\n",
              "      <td>0.102020</td>\n",
              "      <td>0.000000</td>\n",
              "      <td>0.0</td>\n",
              "      <td>0.0</td>\n",
              "      <td>0.0</td>\n",
              "      <td>0.000000</td>\n",
              "      <td>0.0</td>\n",
              "      <td>0.0</td>\n",
              "      <td>0.102020</td>\n",
              "      <td>0.000000</td>\n",
              "      <td>0.0</td>\n",
              "      <td>0.102020</td>\n",
              "      <td>0.0</td>\n",
              "      <td>0.0</td>\n",
              "      <td>0.102020</td>\n",
              "      <td>0.0</td>\n",
              "      <td>0.000000</td>\n",
              "      <td>0.0</td>\n",
              "      <td>0.0</td>\n",
              "      <td>0.000000</td>\n",
              "      <td>0.000000</td>\n",
              "      <td>0.102020</td>\n",
              "      <td>0.0</td>\n",
              "      <td>0.102020</td>\n",
              "      <td>0.0</td>\n",
              "      <td>0.000000</td>\n",
              "      <td>0.102020</td>\n",
              "      <td>0.000000</td>\n",
              "    </tr>\n",
              "    <tr>\n",
              "      <th>87227</th>\n",
              "      <td>0.612123</td>\n",
              "      <td>0.204041</td>\n",
              "      <td>0.028566</td>\n",
              "      <td>0.714143</td>\n",
              "      <td>0.0</td>\n",
              "      <td>0.102020</td>\n",
              "      <td>0.000000</td>\n",
              "      <td>0.0</td>\n",
              "      <td>0.0</td>\n",
              "      <td>0.0</td>\n",
              "      <td>0.000000</td>\n",
              "      <td>0.0</td>\n",
              "      <td>0.0</td>\n",
              "      <td>0.102020</td>\n",
              "      <td>0.000000</td>\n",
              "      <td>0.0</td>\n",
              "      <td>0.102020</td>\n",
              "      <td>0.0</td>\n",
              "      <td>0.0</td>\n",
              "      <td>0.102020</td>\n",
              "      <td>0.0</td>\n",
              "      <td>0.000000</td>\n",
              "      <td>0.0</td>\n",
              "      <td>0.0</td>\n",
              "      <td>0.000000</td>\n",
              "      <td>0.000000</td>\n",
              "      <td>0.102020</td>\n",
              "      <td>0.0</td>\n",
              "      <td>0.102020</td>\n",
              "      <td>0.0</td>\n",
              "      <td>0.000000</td>\n",
              "      <td>0.102020</td>\n",
              "      <td>0.000000</td>\n",
              "    </tr>\n",
              "  </tbody>\n",
              "</table>\n",
              "<p>87228 rows × 33 columns</p>\n",
              "</div>"
            ],
            "text/plain": [
              "       Classe_Age_Situ_Cont  ...  Age_du_vehicule_> 5 ans\n",
              "0                  0.596130  ...                 0.000000\n",
              "1                  0.541791  ...                 0.108358\n",
              "2                  0.542157  ...                 0.108431\n",
              "3                  0.692925  ...                 0.000000\n",
              "4                  0.755584  ...                 0.000000\n",
              "...                     ...  ...                      ...\n",
              "87223              0.612123  ...                 0.000000\n",
              "87224              0.612123  ...                 0.000000\n",
              "87225              0.612291  ...                 0.102048\n",
              "87226              0.612123  ...                 0.000000\n",
              "87227              0.612123  ...                 0.000000\n",
              "\n",
              "[87228 rows x 33 columns]"
            ]
          },
          "metadata": {
            "tags": []
          },
          "execution_count": 17
        }
      ]
    },
    {
      "cell_type": "code",
      "metadata": {
        "id": "bmQrZGLQmRXb",
        "colab_type": "code",
        "colab": {}
      },
      "source": [
        "df_drop = df.drop(\"Freq_sinistre\", axis=1)\n",
        "tree = KDTree(df_drop.values)"
      ],
      "execution_count": 0,
      "outputs": []
    },
    {
      "cell_type": "code",
      "metadata": {
        "id": "c0Wh0fdRmRXf",
        "colab_type": "code",
        "colab": {}
      },
      "source": [
        "def approx(df_drop, y, i, dist, ind, var):\n",
        "    \"\"\"\n",
        "    Approximates the value of Freq_sinistre for row i \n",
        "    \"\"\"\n",
        "    delta_y = (y-y[i])[ind]\n",
        "    gauss_weights = np.exp(-dist / var)\n",
        "    y_hat = max(y[i]+ np.dot(delta_y, gauss_weights),0)\n",
        "    return y_hat"
      ],
      "execution_count": 0,
      "outputs": []
    },
    {
      "cell_type": "markdown",
      "metadata": {
        "id": "TrKrC_5CmRXl",
        "colab_type": "text"
      },
      "source": [
        "Pour les 80000 points du jeu de données, il faut donc compter près de 400 secondes. Cela reste raisonnable. Toutefois, pour trouver la bonne valeur de la variance, il faudra faire cela plusieurs fois ce qui peut prendre du temps. On va commencer par selectionner les 1000 voisins les plus proches situés à une distance inférieure ou égale à 0.25."
      ]
    },
    {
      "cell_type": "code",
      "metadata": {
        "id": "q8yF-kHkmRXp",
        "colab_type": "code",
        "colab": {}
      },
      "source": [
        "def approx_freq(df, thresh, k, var):\n",
        "    \"\"\"\n",
        "    approximates the Freq_sinisre column and inflate zeros\n",
        "    \n",
        "    parameters :\n",
        "    thresh : part of the space points to select (maximum distance between a point and one of the selected neighbour)\n",
        "    k : first neighbours to search in KDTree. This may affect computationnal time.\n",
        "    var : vairance of the gaussian distance\n",
        "    \"\"\"\n",
        "    Y_hat = []\n",
        "    Y = df[\"Freq_sinistre\"].values\n",
        "    N=[]\n",
        "    for i in range(len(df)):\n",
        "        #if i % 10000 == 0:\n",
        "        #    print(i)\n",
        "        features = df_drop.iloc[i]\n",
        "        # select k nearest neigbours\n",
        "        dist, ind = tree.query(features.values.reshape(1, -1), k=k)\n",
        "        # select only those not too far (to be discussed)\n",
        "        n = np.sum(dist<thresh)\n",
        "        dist = dist[0][:n]\n",
        "        ind = ind[0][:n]\n",
        "        N.append(n)\n",
        "        y_hat = approx(df_drop, Y, i, dist, ind, var)\n",
        "        Y_hat.append(y_hat)\n",
        "    df_copy = df.copy()\n",
        "    df_copy[\"Freq_sinistre\"] = Y_hat\n",
        "    return df_copy\n",
        "    "
      ],
      "execution_count": 0,
      "outputs": []
    },
    {
      "cell_type": "code",
      "metadata": {
        "id": "8inxQTo8mRXr",
        "colab_type": "code",
        "colab": {
          "base_uri": "https://localhost:8080/",
          "height": 194
        },
        "outputId": "ded65850-c247-4a6e-e166-9ed0e273eef3"
      },
      "source": [
        "thresh = 0.25\n",
        "k=1000\n",
        "var=np.exp(-5)\n",
        "df_approx = approx_freq(df, thresh, k, var)"
      ],
      "execution_count": 22,
      "outputs": [
        {
          "output_type": "stream",
          "text": [
            "0\n",
            "10000\n",
            "20000\n",
            "30000\n",
            "40000\n",
            "50000\n",
            "60000\n",
            "70000\n",
            "80000\n",
            "\n"
          ],
          "name": "stdout"
        }
      ]
    },
    {
      "cell_type": "code",
      "metadata": {
        "id": "f15tp76zmRXu",
        "colab_type": "code",
        "colab": {
          "base_uri": "https://localhost:8080/",
          "height": 337
        },
        "outputId": "673039c7-c4be-4f6b-c45a-6614503ee8a9"
      },
      "source": [
        "plt.plot(range(500),df.Freq_sinistre[:500])\n",
        "plt.plot(range(500),df_approx.Freq_sinistre[:500])"
      ],
      "execution_count": 23,
      "outputs": [
        {
          "output_type": "execute_result",
          "data": {
            "text/plain": [
              "[<matplotlib.lines.Line2D at 0x7fbd281775f8>]"
            ]
          },
          "metadata": {
            "tags": []
          },
          "execution_count": 23
        },
        {
          "output_type": "display_data",
          "data": {
            "image/png": "[encoded data removed]",
            "text/plain": [
              "<Figure size 1080x360 with 1 Axes>"
            ]
          },
          "metadata": {
            "tags": []
          }
        }
      ]
    },
    {
      "cell_type": "code",
      "metadata": {
        "id": "ObU8KkSJmRXw",
        "colab_type": "code",
        "colab": {
          "base_uri": "https://localhost:8080/",
          "height": 34
        },
        "outputId": "b5553299-c149-453d-816d-c0c08e047bf3"
      },
      "source": [
        "count_zeros(df_approx[\"Freq_sinistre\"],10**(-6))"
      ],
      "execution_count": 24,
      "outputs": [
        {
          "output_type": "execute_result",
          "data": {
            "text/plain": [
              "0.8036524969046637"
            ]
          },
          "metadata": {
            "tags": []
          },
          "execution_count": 24
        }
      ]
    },
    {
      "cell_type": "markdown",
      "metadata": {
        "id": "xHJeNClBvI_u",
        "colab_type": "text"
      },
      "source": [
        "#### Optimisation de la variance"
      ]
    },
    {
      "cell_type": "markdown",
      "metadata": {
        "id": "btbFl4DrvMHp",
        "colab_type": "text"
      },
      "source": [
        "Les bornes n'ont pas été trouvées directement. A partir de exp(-5), plusieurs valeurs ont été testées pour trouver un intervalle qui contiennent les plateaux \"hauts et bas\" pour les deux mesures : nombre de zéros et erreur quadratique. Nous savions que la premiere serait décroissante en fonction de la variance, et l'autre croissante. Nous avons ainsi esayer d'avoir des intervalles qui permettaient de couvrir la majorité de valeurs prises par les deux metriques. Nous avons enfin remarqué qu'au dela de 3, les deux valeurs variaient peu, ainsi qu'en deça de -7."
      ]
    },
    {
      "cell_type": "code",
      "metadata": {
        "id": "uAjoSV0tmRXz",
        "colab_type": "code",
        "colab": {
          "base_uri": "https://localhost:8080/",
          "height": 461
        },
        "outputId": "08f7ad0c-4489-4062-e9ff-a258ba6c68a0"
      },
      "source": [
        "thresh = 0.25\n",
        "k=100\n",
        "errList = []\n",
        "countList = []\n",
        "logVarList = np.linspace(-7,3,25)\n",
        "#varList = [0.01,0.05,0.1,0.5,1,5]\n",
        "for logVar in logVarList:\n",
        "    print(f\"ln(var) = {logVar}\")\n",
        "    var = np.exp(logVar)\n",
        "    #print(var)\n",
        "    df_approx = approx_freq(df, thresh, k, var)\n",
        "    Y_hat = df_approx[\"Freq_sinistre\"]\n",
        "    err = np.sqrt(np.mean((Y-Y_hat)**2))\n",
        "    countList.append(count_zeros(Y_hat,10**(-6)))\n",
        "    errList.append(err)"
      ],
      "execution_count": 29,
      "outputs": [
        {
          "output_type": "stream",
          "text": [
            "ln(var) = -7.0\n",
            "ln(var) = -6.583333333333333\n",
            "ln(var) = -6.166666666666667\n",
            "ln(var) = -5.75\n",
            "ln(var) = -5.333333333333333\n",
            "ln(var) = -4.916666666666666\n",
            "ln(var) = -4.5\n",
            "ln(var) = -4.083333333333333\n",
            "ln(var) = -3.6666666666666665\n",
            "ln(var) = -3.25\n",
            "ln(var) = -2.833333333333333\n",
            "ln(var) = -2.416666666666666\n",
            "ln(var) = -2.0\n",
            "ln(var) = -1.583333333333333\n",
            "ln(var) = -1.166666666666666\n",
            "ln(var) = -0.75\n",
            "ln(var) = -0.33333333333333304\n",
            "ln(var) = 0.08333333333333393\n",
            "ln(var) = 0.5\n",
            "ln(var) = 0.916666666666667\n",
            "ln(var) = 1.333333333333334\n",
            "ln(var) = 1.75\n",
            "ln(var) = 2.166666666666668\n",
            "ln(var) = 2.583333333333334\n",
            "ln(var) = 3.0\n"
          ],
          "name": "stdout"
        }
      ]
    },
    {
      "cell_type": "code",
      "metadata": {
        "id": "0F6i_Vw9mRX2",
        "colab_type": "code",
        "colab": {
          "base_uri": "https://localhost:8080/",
          "height": 354
        },
        "outputId": "d7d5b241-bb14-4411-9dd1-8b6f8f909246"
      },
      "source": [
        "fig = plt.figure()\n",
        "ax = fig.gca()\n",
        "ax.set_xticks(logVarList)\n",
        "\n",
        "plt.plot((logVarList), errList)\n",
        "plt.title('Quadratic error')\n",
        "plt.xlabel('$log(var)$')\n",
        "plt.ylabel('$quadratic error$')\n",
        "plt.grid()\n",
        "plt.show()"
      ],
      "execution_count": 34,
      "outputs": [
        {
          "output_type": "display_data",
          "data": {
            "image/png": "[encoded data removed]",
            "text/plain": [
              "<Figure size 1080x360 with 1 Axes>"
            ]
          },
          "metadata": {
            "tags": []
          }
        }
      ]
    },
    {
      "cell_type": "code",
      "metadata": {
        "id": "HqIJUWgKmRX5",
        "colab_type": "code",
        "colab": {
          "base_uri": "https://localhost:8080/",
          "height": 357
        },
        "outputId": "cd19c05b-d5d9-40ad-f367-c35b88c4bc5a"
      },
      "source": [
        "fig = plt.figure()\n",
        "ax = fig.gca()\n",
        "ax.set_xticks(logVarList)\n",
        "plt.plot((logVarList), countList)\n",
        "plt.title('ratio of zeros , ie values < $10^{-6}$')\n",
        "plt.xlabel('$log(var)$')\n",
        "plt.ylabel('Number of zeros')\n",
        "plt.grid()\n",
        "plt.show()"
      ],
      "execution_count": 35,
      "outputs": [
        {
          "output_type": "display_data",
          "data": {
            "image/png": "[encoded data removed]",
            "text/plain": [
              "<Figure size 1080x360 with 1 Axes>"
            ]
          },
          "metadata": {
            "tags": []
          }
        }
      ]
    },
    {
      "cell_type": "markdown",
      "metadata": {
        "id": "yiWvwvSpP2sa",
        "colab_type": "text"
      },
      "source": [
        "Prendre $var=-3.67 semble être optimal. Procédons à la vérification.\n",
        "Cette fois, nous sleectionnons les 10000 plus proches voisins sjitués à une distance inférieure à 0.25."
      ]
    },
    {
      "cell_type": "code",
      "metadata": {
        "id": "Etgk05IgmRYA",
        "colab_type": "code",
        "colab": {}
      },
      "source": [
        "var = np.exp(-3.6)"
      ],
      "execution_count": 0,
      "outputs": []
    },
    {
      "cell_type": "code",
      "metadata": {
        "id": "-hFQGCr2mRYB",
        "colab_type": "code",
        "colab": {}
      },
      "source": [
        "df_approx = approx_freq(df, thresh=0.25, k=10000, var=var)"
      ],
      "execution_count": 0,
      "outputs": []
    },
    {
      "cell_type": "code",
      "metadata": {
        "id": "BkumPWMUmRYD",
        "colab_type": "code",
        "colab": {
          "base_uri": "https://localhost:8080/",
          "height": 34
        },
        "outputId": "cce87ea7-768a-450a-e857-eec18d27d142"
      },
      "source": [
        "count_zeros(df_approx[\"Freq_sinistre\"])"
      ],
      "execution_count": 38,
      "outputs": [
        {
          "output_type": "execute_result",
          "data": {
            "text/plain": [
              "0.0901430733250791"
            ]
          },
          "metadata": {
            "tags": []
          },
          "execution_count": 38
        }
      ]
    },
    {
      "cell_type": "code",
      "metadata": {
        "id": "TDWQvDVOmRYJ",
        "colab_type": "code",
        "colab": {
          "base_uri": "https://localhost:8080/",
          "height": 34
        },
        "outputId": "b7ba76a2-3101-4448-8387-8ba9f6e19bd5"
      },
      "source": [
        "err = np.sqrt(np.mean((df[\"Freq_sinistre\"]-df_approx[\"Freq_sinistre\"])**2))\n",
        "err"
      ],
      "execution_count": 39,
      "outputs": [
        {
          "output_type": "execute_result",
          "data": {
            "text/plain": [
              "0.04796854423299092"
            ]
          },
          "metadata": {
            "tags": []
          },
          "execution_count": 39
        }
      ]
    }
  ]
}