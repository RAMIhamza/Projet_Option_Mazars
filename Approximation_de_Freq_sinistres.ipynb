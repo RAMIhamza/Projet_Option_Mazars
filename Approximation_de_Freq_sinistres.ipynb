{
 "cells": [
  {
   "cell_type": "code",
   "execution_count": 1,
   "metadata": {
    "colab": {},
    "colab_type": "code",
    "id": "e8_SMfgamW_t"
   },
   "outputs": [
    {
     "ename": "FileNotFoundError",
     "evalue": "[WinError 2] Le fichier spécifié est introuvable: './Temp'",
     "output_type": "error",
     "traceback": [
      "\u001b[1;31m---------------------------------------------------------------------------\u001b[0m",
      "\u001b[1;31mFileNotFoundError\u001b[0m                         Traceback (most recent call last)",
      "\u001b[1;32m<ipython-input-1-80e280df96e7>\u001b[0m in \u001b[0;36m<module>\u001b[1;34m\u001b[0m\n\u001b[0;32m      1\u001b[0m \u001b[1;32mimport\u001b[0m \u001b[0mos\u001b[0m\u001b[1;33m\u001b[0m\u001b[1;33m\u001b[0m\u001b[0m\n\u001b[1;32m----> 2\u001b[1;33m \u001b[0mos\u001b[0m\u001b[1;33m.\u001b[0m\u001b[0mchdir\u001b[0m\u001b[1;33m(\u001b[0m\u001b[1;34m\"./Temp\"\u001b[0m\u001b[1;33m)\u001b[0m\u001b[1;33m\u001b[0m\u001b[1;33m\u001b[0m\u001b[0m\n\u001b[0m",
      "\u001b[1;31mFileNotFoundError\u001b[0m: [WinError 2] Le fichier spécifié est introuvable: './Temp'"
     ]
    }
   ],
   "source": [
    "import os\n",
    "os.chdir(\"./Temp\")"
   ]
  },
  {
   "cell_type": "code",
   "execution_count": 4,
   "metadata": {
    "colab": {},
    "colab_type": "code",
    "id": "qdj7mxpbmRXL"
   },
   "outputs": [],
   "source": [
    "from preprocessing import *\n",
    "import matplotlib\n",
    "import matplotlib.pyplot as plt\n",
    "from sklearn.neighbors import KDTree\n",
    "\n",
    "matplotlib.rcParams['figure.figsize'] = [15,5]\n",
    "\n",
    "data_contrats = pd.read_csv('train_contrats.csv',sep=\";\", engine=\"python\")\n",
    "data_contrats[\"Freq_sinistre\"] = data_contrats[\"nombre_de_sinistre\"]/data_contrats[\"Exposition_au_risque\"]"
   ]
  },
  {
   "cell_type": "code",
   "execution_count": 5,
   "metadata": {},
   "outputs": [
    {
     "data": {
      "text/plain": [
       "87228"
      ]
     },
     "execution_count": 5,
     "metadata": {},
     "output_type": "execute_result"
    }
   ],
   "source": [
    " len(data_contrats[\"Freq_sinistre\"])"
   ]
  },
  {
   "cell_type": "code",
   "execution_count": 6,
   "metadata": {},
   "outputs": [
    {
     "data": {
      "text/plain": [
       "0.9512771128536709"
      ]
     },
     "execution_count": 6,
     "metadata": {},
     "output_type": "execute_result"
    }
   ],
   "source": [
    "np.sum(data_contrats[\"Freq_sinistre\"] == 0)/len(data_contrats[\"Freq_sinistre\"])"
   ]
  },
  {
   "cell_type": "code",
   "execution_count": 7,
   "metadata": {
    "colab": {
     "base_uri": "https://localhost:8080/",
     "height": 336
    },
    "colab_type": "code",
    "id": "-3-stMtUmRXO",
    "outputId": "19a0a9ce-d588-4130-f8ec-b999d972c2aa"
   },
   "outputs": [
    {
     "name": "stderr",
     "output_type": "stream",
     "text": [
      "C:\\Users\\User\\Documents\\GitHub\\Projet_Option_Mazars\\preprocessing.py:43: SettingWithCopyWarning: \n",
      "A value is trying to be set on a copy of a slice from a DataFrame.\n",
      "Try using .loc[row_indexer,col_indexer] = value instead\n",
      "\n",
      "See the caveats in the documentation: http://pandas.pydata.org/pandas-docs/stable/user_guide/indexing.html#returning-a-view-versus-a-copy\n",
      "  data_clustering[\"Classe_Age_Situ_Cont\"]=data_clustering[\"Classe_Age_Situ_Cont\"].apply(classe_age)\n",
      "C:\\Users\\User\\Documents\\GitHub\\Projet_Option_Mazars\\preprocessing.py:44: SettingWithCopyWarning: \n",
      "A value is trying to be set on a copy of a slice from a DataFrame.\n",
      "Try using .loc[row_indexer,col_indexer] = value instead\n",
      "\n",
      "See the caveats in the documentation: http://pandas.pydata.org/pandas-docs/stable/user_guide/indexing.html#returning-a-view-versus-a-copy\n",
      "  data_clustering[\"franchise\"]=data_clustering[\"franchise\"].apply(franchise_)\n",
      "c:\\users\\user\\appdata\\local\\programs\\python\\python37\\lib\\site-packages\\pandas\\core\\frame.py:3494: SettingWithCopyWarning: \n",
      "A value is trying to be set on a copy of a slice from a DataFrame.\n",
      "Try using .loc[row_indexer,col_indexer] = value instead\n",
      "\n",
      "See the caveats in the documentation: http://pandas.pydata.org/pandas-docs/stable/user_guide/indexing.html#returning-a-view-versus-a-copy\n",
      "  self[k1] = value[k2]\n"
     ]
    }
   ],
   "source": [
    "df = preprocessing(data_contrats, balance=False, train_size=1)[0]\n",
    "#df = df[:10000]\n",
    "X = df.drop(\"Freq_sinistre\", axis=1, inplace=False).to_numpy()\n",
    "Y = np.array(df[\"Freq_sinistre\"])"
   ]
  },
  {
   "cell_type": "code",
   "execution_count": 8,
   "metadata": {
    "colab": {
     "base_uri": "https://localhost:8080/",
     "height": 443
    },
    "colab_type": "code",
    "id": "obaQ-lJ9mRXT",
    "outputId": "43b430fe-e197-4483-b6ef-93617da4c6d6"
   },
   "outputs": [
    {
     "data": {
      "text/html": [
       "<div>\n",
       "<style scoped>\n",
       "    .dataframe tbody tr th:only-of-type {\n",
       "        vertical-align: middle;\n",
       "    }\n",
       "\n",
       "    .dataframe tbody tr th {\n",
       "        vertical-align: top;\n",
       "    }\n",
       "\n",
       "    .dataframe thead th {\n",
       "        text-align: right;\n",
       "    }\n",
       "</style>\n",
       "<table border=\"1\" class=\"dataframe\">\n",
       "  <thead>\n",
       "    <tr style=\"text-align: right;\">\n",
       "      <th></th>\n",
       "      <th>Classe_Age_Situ_Cont</th>\n",
       "      <th>franchise</th>\n",
       "      <th>Exposition_au_risque</th>\n",
       "      <th>ValeurPuissance</th>\n",
       "      <th>Freq_sinistre</th>\n",
       "      <th>Type_Apporteur_1</th>\n",
       "      <th>Type_Apporteur_2</th>\n",
       "      <th>Type_Apporteur_3</th>\n",
       "      <th>Activite_1</th>\n",
       "      <th>Activite_2</th>\n",
       "      <th>...</th>\n",
       "      <th>Zone_6</th>\n",
       "      <th>Fractionnement_A</th>\n",
       "      <th>Fractionnement_S</th>\n",
       "      <th>Fractionnement_T</th>\n",
       "      <th>FORMULE_2</th>\n",
       "      <th>FORMULE_3</th>\n",
       "      <th>FORMULE_4</th>\n",
       "      <th>FORMULE_5</th>\n",
       "      <th>Age_du_vehicule_&lt;= 5 ans</th>\n",
       "      <th>Age_du_vehicule_&gt; 5 ans</th>\n",
       "    </tr>\n",
       "  </thead>\n",
       "  <tbody>\n",
       "    <tr>\n",
       "      <td>0</td>\n",
       "      <td>0.596130</td>\n",
       "      <td>0.298065</td>\n",
       "      <td>0.054645</td>\n",
       "      <td>0.695485</td>\n",
       "      <td>0.0</td>\n",
       "      <td>0.099355</td>\n",
       "      <td>0.000000</td>\n",
       "      <td>0.0</td>\n",
       "      <td>0.0</td>\n",
       "      <td>0.0</td>\n",
       "      <td>...</td>\n",
       "      <td>0.0</td>\n",
       "      <td>0.099355</td>\n",
       "      <td>0.000000</td>\n",
       "      <td>0.000000</td>\n",
       "      <td>0.0</td>\n",
       "      <td>0.000000</td>\n",
       "      <td>0.0</td>\n",
       "      <td>0.099355</td>\n",
       "      <td>0.099355</td>\n",
       "      <td>0.000000</td>\n",
       "    </tr>\n",
       "    <tr>\n",
       "      <td>1</td>\n",
       "      <td>0.541791</td>\n",
       "      <td>0.216716</td>\n",
       "      <td>0.044427</td>\n",
       "      <td>0.758507</td>\n",
       "      <td>0.0</td>\n",
       "      <td>0.000000</td>\n",
       "      <td>0.108358</td>\n",
       "      <td>0.0</td>\n",
       "      <td>0.0</td>\n",
       "      <td>0.0</td>\n",
       "      <td>...</td>\n",
       "      <td>0.0</td>\n",
       "      <td>0.000000</td>\n",
       "      <td>0.108358</td>\n",
       "      <td>0.000000</td>\n",
       "      <td>0.0</td>\n",
       "      <td>0.108358</td>\n",
       "      <td>0.0</td>\n",
       "      <td>0.000000</td>\n",
       "      <td>0.000000</td>\n",
       "      <td>0.108358</td>\n",
       "    </tr>\n",
       "    <tr>\n",
       "      <td>2</td>\n",
       "      <td>0.542157</td>\n",
       "      <td>0.216863</td>\n",
       "      <td>0.024939</td>\n",
       "      <td>0.759020</td>\n",
       "      <td>0.0</td>\n",
       "      <td>0.000000</td>\n",
       "      <td>0.108431</td>\n",
       "      <td>0.0</td>\n",
       "      <td>0.0</td>\n",
       "      <td>0.0</td>\n",
       "      <td>...</td>\n",
       "      <td>0.0</td>\n",
       "      <td>0.000000</td>\n",
       "      <td>0.108431</td>\n",
       "      <td>0.000000</td>\n",
       "      <td>0.0</td>\n",
       "      <td>0.108431</td>\n",
       "      <td>0.0</td>\n",
       "      <td>0.000000</td>\n",
       "      <td>0.000000</td>\n",
       "      <td>0.108431</td>\n",
       "    </tr>\n",
       "    <tr>\n",
       "      <td>3</td>\n",
       "      <td>0.692925</td>\n",
       "      <td>0.277170</td>\n",
       "      <td>0.036032</td>\n",
       "      <td>0.554340</td>\n",
       "      <td>0.0</td>\n",
       "      <td>0.000000</td>\n",
       "      <td>0.138585</td>\n",
       "      <td>0.0</td>\n",
       "      <td>0.0</td>\n",
       "      <td>0.0</td>\n",
       "      <td>...</td>\n",
       "      <td>0.0</td>\n",
       "      <td>0.000000</td>\n",
       "      <td>0.138585</td>\n",
       "      <td>0.000000</td>\n",
       "      <td>0.0</td>\n",
       "      <td>0.000000</td>\n",
       "      <td>0.0</td>\n",
       "      <td>0.138585</td>\n",
       "      <td>0.138585</td>\n",
       "      <td>0.000000</td>\n",
       "    </tr>\n",
       "    <tr>\n",
       "      <td>4</td>\n",
       "      <td>0.755584</td>\n",
       "      <td>0.251861</td>\n",
       "      <td>0.030223</td>\n",
       "      <td>0.503722</td>\n",
       "      <td>0.0</td>\n",
       "      <td>0.000000</td>\n",
       "      <td>0.125931</td>\n",
       "      <td>0.0</td>\n",
       "      <td>0.0</td>\n",
       "      <td>0.0</td>\n",
       "      <td>...</td>\n",
       "      <td>0.0</td>\n",
       "      <td>0.000000</td>\n",
       "      <td>0.125931</td>\n",
       "      <td>0.000000</td>\n",
       "      <td>0.0</td>\n",
       "      <td>0.000000</td>\n",
       "      <td>0.0</td>\n",
       "      <td>0.125931</td>\n",
       "      <td>0.125931</td>\n",
       "      <td>0.000000</td>\n",
       "    </tr>\n",
       "    <tr>\n",
       "      <td>...</td>\n",
       "      <td>...</td>\n",
       "      <td>...</td>\n",
       "      <td>...</td>\n",
       "      <td>...</td>\n",
       "      <td>...</td>\n",
       "      <td>...</td>\n",
       "      <td>...</td>\n",
       "      <td>...</td>\n",
       "      <td>...</td>\n",
       "      <td>...</td>\n",
       "      <td>...</td>\n",
       "      <td>...</td>\n",
       "      <td>...</td>\n",
       "      <td>...</td>\n",
       "      <td>...</td>\n",
       "      <td>...</td>\n",
       "      <td>...</td>\n",
       "      <td>...</td>\n",
       "      <td>...</td>\n",
       "      <td>...</td>\n",
       "      <td>...</td>\n",
       "    </tr>\n",
       "    <tr>\n",
       "      <td>87223</td>\n",
       "      <td>0.612123</td>\n",
       "      <td>0.204041</td>\n",
       "      <td>0.028566</td>\n",
       "      <td>0.714143</td>\n",
       "      <td>0.0</td>\n",
       "      <td>0.102020</td>\n",
       "      <td>0.000000</td>\n",
       "      <td>0.0</td>\n",
       "      <td>0.0</td>\n",
       "      <td>0.0</td>\n",
       "      <td>...</td>\n",
       "      <td>0.0</td>\n",
       "      <td>0.000000</td>\n",
       "      <td>0.000000</td>\n",
       "      <td>0.102020</td>\n",
       "      <td>0.0</td>\n",
       "      <td>0.102020</td>\n",
       "      <td>0.0</td>\n",
       "      <td>0.000000</td>\n",
       "      <td>0.102020</td>\n",
       "      <td>0.000000</td>\n",
       "    </tr>\n",
       "    <tr>\n",
       "      <td>87224</td>\n",
       "      <td>0.612123</td>\n",
       "      <td>0.204041</td>\n",
       "      <td>0.028566</td>\n",
       "      <td>0.714143</td>\n",
       "      <td>0.0</td>\n",
       "      <td>0.102020</td>\n",
       "      <td>0.000000</td>\n",
       "      <td>0.0</td>\n",
       "      <td>0.0</td>\n",
       "      <td>0.0</td>\n",
       "      <td>...</td>\n",
       "      <td>0.0</td>\n",
       "      <td>0.000000</td>\n",
       "      <td>0.000000</td>\n",
       "      <td>0.102020</td>\n",
       "      <td>0.0</td>\n",
       "      <td>0.102020</td>\n",
       "      <td>0.0</td>\n",
       "      <td>0.000000</td>\n",
       "      <td>0.102020</td>\n",
       "      <td>0.000000</td>\n",
       "    </tr>\n",
       "    <tr>\n",
       "      <td>87225</td>\n",
       "      <td>0.612291</td>\n",
       "      <td>0.204097</td>\n",
       "      <td>0.016328</td>\n",
       "      <td>0.714339</td>\n",
       "      <td>0.0</td>\n",
       "      <td>0.102048</td>\n",
       "      <td>0.000000</td>\n",
       "      <td>0.0</td>\n",
       "      <td>0.0</td>\n",
       "      <td>0.0</td>\n",
       "      <td>...</td>\n",
       "      <td>0.0</td>\n",
       "      <td>0.000000</td>\n",
       "      <td>0.000000</td>\n",
       "      <td>0.102048</td>\n",
       "      <td>0.0</td>\n",
       "      <td>0.102048</td>\n",
       "      <td>0.0</td>\n",
       "      <td>0.000000</td>\n",
       "      <td>0.000000</td>\n",
       "      <td>0.102048</td>\n",
       "    </tr>\n",
       "    <tr>\n",
       "      <td>87226</td>\n",
       "      <td>0.612123</td>\n",
       "      <td>0.204041</td>\n",
       "      <td>0.028566</td>\n",
       "      <td>0.714143</td>\n",
       "      <td>0.0</td>\n",
       "      <td>0.102020</td>\n",
       "      <td>0.000000</td>\n",
       "      <td>0.0</td>\n",
       "      <td>0.0</td>\n",
       "      <td>0.0</td>\n",
       "      <td>...</td>\n",
       "      <td>0.0</td>\n",
       "      <td>0.000000</td>\n",
       "      <td>0.000000</td>\n",
       "      <td>0.102020</td>\n",
       "      <td>0.0</td>\n",
       "      <td>0.102020</td>\n",
       "      <td>0.0</td>\n",
       "      <td>0.000000</td>\n",
       "      <td>0.102020</td>\n",
       "      <td>0.000000</td>\n",
       "    </tr>\n",
       "    <tr>\n",
       "      <td>87227</td>\n",
       "      <td>0.612123</td>\n",
       "      <td>0.204041</td>\n",
       "      <td>0.028566</td>\n",
       "      <td>0.714143</td>\n",
       "      <td>0.0</td>\n",
       "      <td>0.102020</td>\n",
       "      <td>0.000000</td>\n",
       "      <td>0.0</td>\n",
       "      <td>0.0</td>\n",
       "      <td>0.0</td>\n",
       "      <td>...</td>\n",
       "      <td>0.0</td>\n",
       "      <td>0.000000</td>\n",
       "      <td>0.000000</td>\n",
       "      <td>0.102020</td>\n",
       "      <td>0.0</td>\n",
       "      <td>0.102020</td>\n",
       "      <td>0.0</td>\n",
       "      <td>0.000000</td>\n",
       "      <td>0.102020</td>\n",
       "      <td>0.000000</td>\n",
       "    </tr>\n",
       "  </tbody>\n",
       "</table>\n",
       "<p>87228 rows × 33 columns</p>\n",
       "</div>"
      ],
      "text/plain": [
       "       Classe_Age_Situ_Cont  franchise  Exposition_au_risque  ValeurPuissance  \\\n",
       "0                  0.596130   0.298065              0.054645         0.695485   \n",
       "1                  0.541791   0.216716              0.044427         0.758507   \n",
       "2                  0.542157   0.216863              0.024939         0.759020   \n",
       "3                  0.692925   0.277170              0.036032         0.554340   \n",
       "4                  0.755584   0.251861              0.030223         0.503722   \n",
       "...                     ...        ...                   ...              ...   \n",
       "87223              0.612123   0.204041              0.028566         0.714143   \n",
       "87224              0.612123   0.204041              0.028566         0.714143   \n",
       "87225              0.612291   0.204097              0.016328         0.714339   \n",
       "87226              0.612123   0.204041              0.028566         0.714143   \n",
       "87227              0.612123   0.204041              0.028566         0.714143   \n",
       "\n",
       "       Freq_sinistre  Type_Apporteur_1  Type_Apporteur_2  Type_Apporteur_3  \\\n",
       "0                0.0          0.099355          0.000000               0.0   \n",
       "1                0.0          0.000000          0.108358               0.0   \n",
       "2                0.0          0.000000          0.108431               0.0   \n",
       "3                0.0          0.000000          0.138585               0.0   \n",
       "4                0.0          0.000000          0.125931               0.0   \n",
       "...              ...               ...               ...               ...   \n",
       "87223            0.0          0.102020          0.000000               0.0   \n",
       "87224            0.0          0.102020          0.000000               0.0   \n",
       "87225            0.0          0.102048          0.000000               0.0   \n",
       "87226            0.0          0.102020          0.000000               0.0   \n",
       "87227            0.0          0.102020          0.000000               0.0   \n",
       "\n",
       "       Activite_1  Activite_2  ...  Zone_6  Fractionnement_A  \\\n",
       "0             0.0         0.0  ...     0.0          0.099355   \n",
       "1             0.0         0.0  ...     0.0          0.000000   \n",
       "2             0.0         0.0  ...     0.0          0.000000   \n",
       "3             0.0         0.0  ...     0.0          0.000000   \n",
       "4             0.0         0.0  ...     0.0          0.000000   \n",
       "...           ...         ...  ...     ...               ...   \n",
       "87223         0.0         0.0  ...     0.0          0.000000   \n",
       "87224         0.0         0.0  ...     0.0          0.000000   \n",
       "87225         0.0         0.0  ...     0.0          0.000000   \n",
       "87226         0.0         0.0  ...     0.0          0.000000   \n",
       "87227         0.0         0.0  ...     0.0          0.000000   \n",
       "\n",
       "       Fractionnement_S  Fractionnement_T  FORMULE_2  FORMULE_3  FORMULE_4  \\\n",
       "0              0.000000          0.000000        0.0   0.000000        0.0   \n",
       "1              0.108358          0.000000        0.0   0.108358        0.0   \n",
       "2              0.108431          0.000000        0.0   0.108431        0.0   \n",
       "3              0.138585          0.000000        0.0   0.000000        0.0   \n",
       "4              0.125931          0.000000        0.0   0.000000        0.0   \n",
       "...                 ...               ...        ...        ...        ...   \n",
       "87223          0.000000          0.102020        0.0   0.102020        0.0   \n",
       "87224          0.000000          0.102020        0.0   0.102020        0.0   \n",
       "87225          0.000000          0.102048        0.0   0.102048        0.0   \n",
       "87226          0.000000          0.102020        0.0   0.102020        0.0   \n",
       "87227          0.000000          0.102020        0.0   0.102020        0.0   \n",
       "\n",
       "       FORMULE_5  Age_du_vehicule_<= 5 ans  Age_du_vehicule_> 5 ans  \n",
       "0       0.099355                  0.099355                 0.000000  \n",
       "1       0.000000                  0.000000                 0.108358  \n",
       "2       0.000000                  0.000000                 0.108431  \n",
       "3       0.138585                  0.138585                 0.000000  \n",
       "4       0.125931                  0.125931                 0.000000  \n",
       "...          ...                       ...                      ...  \n",
       "87223   0.000000                  0.102020                 0.000000  \n",
       "87224   0.000000                  0.102020                 0.000000  \n",
       "87225   0.000000                  0.000000                 0.102048  \n",
       "87226   0.000000                  0.102020                 0.000000  \n",
       "87227   0.000000                  0.102020                 0.000000  \n",
       "\n",
       "[87228 rows x 33 columns]"
      ]
     },
     "execution_count": 8,
     "metadata": {},
     "output_type": "execute_result"
    }
   ],
   "source": [
    "df"
   ]
  },
  {
   "cell_type": "code",
   "execution_count": 9,
   "metadata": {
    "colab": {},
    "colab_type": "code",
    "id": "bmQrZGLQmRXb"
   },
   "outputs": [],
   "source": [
    "df_drop = df.drop(\"Freq_sinistre\", axis=1)\n",
    "tree = KDTree(df_drop.values)"
   ]
  },
  {
   "cell_type": "code",
   "execution_count": 10,
   "metadata": {
    "colab": {},
    "colab_type": "code",
    "id": "c0Wh0fdRmRXf"
   },
   "outputs": [],
   "source": [
    "def approx(df_drop, y, i, dist, ind, var):\n",
    "    \"\"\"\n",
    "    Approximates the value of Freq_sinistre for row i \n",
    "    \"\"\"\n",
    "    delta_y = (y-y[i])[ind]\n",
    "    gauss_weights = np.exp(-(dist**2) / var)\n",
    "    y_hat = max(y[i]+ np.dot(delta_y, gauss_weights),0)\n",
    "    return y_hat"
   ]
  },
  {
   "cell_type": "markdown",
   "metadata": {
    "colab_type": "text",
    "id": "TrKrC_5CmRXl"
   },
   "source": [
    "Pour les 80000 points du jeu de données, il faut donc compter près de 400 secondes. Cela reste raisonnable. Toutefois, pour trouver la bonne valeur de la variance, il faudra faire cela plusieurs fois ce qui peut prendre du temps. On va commencer par selectionner les 1000 voisins les plus proches situés à une distance inférieure ou égale à 0.25."
   ]
  },
  {
   "cell_type": "code",
   "execution_count": 11,
   "metadata": {
    "colab": {},
    "colab_type": "code",
    "id": "q8yF-kHkmRXp"
   },
   "outputs": [],
   "source": [
    "def approx_freq(df, thresh, k, var):\n",
    "    \"\"\"\n",
    "    approximates the Freq_sinisre column and inflate zeros\n",
    "    \n",
    "    parameters :\n",
    "    thresh : part of the space points to select (maximum distance between a point and one of the selected neighbour)\n",
    "    k : first neighbours to search in KDTree. This may affect computationnal time.\n",
    "    var : vairance of the gaussian distance\n",
    "    \"\"\"\n",
    "    Y_hat = []\n",
    "    Y = df[\"Freq_sinistre\"].values\n",
    "    N=[]\n",
    "    for i in range(len(df)):\n",
    "        #if i % 10000 == 0:\n",
    "        #    print(i)\n",
    "        features = df_drop.iloc[i]\n",
    "        # select k nearest neigbours\n",
    "        dist, ind = tree.query(features.values.reshape(1, -1), k=k)\n",
    "        # select only those not too far (to be discussed)\n",
    "        n = np.sum(dist<thresh)\n",
    "        dist = dist[0][:n]\n",
    "        ind = ind[0][:n]\n",
    "        N.append(n)\n",
    "        y_hat = approx(df_drop, Y, i, dist, ind, var)\n",
    "        Y_hat.append(y_hat)\n",
    "    df_copy = df.copy()\n",
    "    df_copy[\"Freq_sinistre\"] = Y_hat\n",
    "    return df_copy\n",
    "    "
   ]
  },
  {
   "cell_type": "code",
   "execution_count": 12,
   "metadata": {
    "colab": {
     "base_uri": "https://localhost:8080/",
     "height": 194
    },
    "colab_type": "code",
    "id": "8inxQTo8mRXr",
    "outputId": "ded65850-c247-4a6e-e166-9ed0e273eef3"
   },
   "outputs": [],
   "source": [
    "thresh = 0.25\n",
    "k=1000\n",
    "var=np.exp(-8)\n",
    "df_approx = approx_freq(df, thresh, k, var)"
   ]
  },
  {
   "cell_type": "code",
   "execution_count": 13,
   "metadata": {},
   "outputs": [
    {
     "data": {
      "text/plain": [
       "[<matplotlib.lines.Line2D at 0x15a4845c848>]"
      ]
     },
     "execution_count": 13,
     "metadata": {},
     "output_type": "execute_result"
    },
    {
     "data": {
      "image/png": "[encoded data removed]",
      "text/plain": [
       "<Figure size 1080x360 with 1 Axes>"
      ]
     },
     "metadata": {
      "needs_background": "light"
     },
     "output_type": "display_data"
    }
   ],
   "source": [
    "plt.plot(range(500),df.Freq_sinistre[:500])\n",
    "plt.plot(range(500),df_approx.Freq_sinistre[:500])"
   ]
  },
  {
   "cell_type": "code",
   "execution_count": 14,
   "metadata": {
    "colab": {
     "base_uri": "https://localhost:8080/",
     "height": 34
    },
    "colab_type": "code",
    "id": "ObU8KkSJmRXw",
    "outputId": "b5553299-c149-453d-816d-c0c08e047bf3"
   },
   "outputs": [
    {
     "data": {
      "text/plain": [
       "0.8682303847388453"
      ]
     },
     "execution_count": 14,
     "metadata": {},
     "output_type": "execute_result"
    }
   ],
   "source": [
    "count_zeros(df_approx[\"Freq_sinistre\"],10**(-6))"
   ]
  },
  {
   "cell_type": "markdown",
   "metadata": {
    "colab_type": "text",
    "id": "xHJeNClBvI_u"
   },
   "source": [
    "#### Optimisation de la variance"
   ]
  },
  {
   "cell_type": "markdown",
   "metadata": {
    "colab_type": "text",
    "id": "btbFl4DrvMHp"
   },
   "source": [
    "Les bornes n'ont pas été trouvées directement. A partir de exp(-5), plusieurs valeurs ont été testées pour trouver un intervalle qui contiennent les plateaux \"hauts et bas\" pour les deux mesures : nombre de zéros et erreur quadratique. Nous savions que la premiere serait décroissante en fonction de la variance, et l'autre croissante. Nous avons ainsi esayer d'avoir des intervalles qui permettaient de couvrir la majorité de valeurs prises par les deux metriques. Nous avons enfin remarqué qu'au dela de 3, les deux valeurs variaient peu, ainsi qu'en deça de -7."
   ]
  },
  {
   "cell_type": "code",
   "execution_count": 18,
   "metadata": {
    "colab": {
     "base_uri": "https://localhost:8080/",
     "height": 461
    },
    "colab_type": "code",
    "id": "uAjoSV0tmRXz",
    "outputId": "08f7ad0c-4489-4062-e9ff-a258ba6c68a0"
   },
   "outputs": [
    {
     "name": "stdout",
     "output_type": "stream",
     "text": [
      "ln(var) = -10.0\n",
      "ln(var) = -9.73469387755102\n",
      "ln(var) = -9.46938775510204\n",
      "ln(var) = -9.204081632653061\n",
      "ln(var) = -8.938775510204081\n",
      "ln(var) = -8.673469387755102\n",
      "ln(var) = -8.408163265306122\n",
      "ln(var) = -8.142857142857142\n",
      "ln(var) = -7.877551020408163\n",
      "ln(var) = -7.612244897959183\n",
      "ln(var) = -7.346938775510203\n",
      "ln(var) = -7.081632653061224\n",
      "ln(var) = -6.816326530612245\n",
      "ln(var) = -6.551020408163265\n",
      "ln(var) = -6.285714285714286\n",
      "ln(var) = -6.020408163265306\n",
      "ln(var) = -5.755102040816326\n",
      "ln(var) = -5.489795918367347\n",
      "ln(var) = -5.224489795918367\n",
      "ln(var) = -4.959183673469387\n",
      "ln(var) = -4.693877551020408\n",
      "ln(var) = -4.428571428571428\n",
      "ln(var) = -4.163265306122448\n",
      "ln(var) = -3.8979591836734686\n",
      "ln(var) = -3.63265306122449\n",
      "ln(var) = -3.36734693877551\n",
      "ln(var) = -3.1020408163265305\n",
      "ln(var) = -2.836734693877551\n",
      "ln(var) = -2.571428571428571\n",
      "ln(var) = -2.3061224489795915\n",
      "ln(var) = -2.040816326530612\n",
      "ln(var) = -1.7755102040816322\n",
      "ln(var) = -1.5102040816326525\n",
      "ln(var) = -1.2448979591836729\n",
      "ln(var) = -0.9795918367346932\n",
      "ln(var) = -0.7142857142857135\n",
      "ln(var) = -0.44897959183673386\n",
      "ln(var) = -0.1836734693877542\n",
      "ln(var) = 0.08163265306122547\n",
      "ln(var) = 0.34693877551020513\n",
      "ln(var) = 0.6122448979591848\n",
      "ln(var) = 0.8775510204081645\n",
      "ln(var) = 1.1428571428571441\n",
      "ln(var) = 1.4081632653061238\n",
      "ln(var) = 1.6734693877551035\n",
      "ln(var) = 1.9387755102040831\n",
      "ln(var) = 2.204081632653063\n",
      "ln(var) = 2.4693877551020424\n",
      "ln(var) = 2.7346938775510203\n",
      "ln(var) = 3.0\n"
     ]
    }
   ],
   "source": [
    "thresh = 0.25\n",
    "k=100\n",
    "errList = []\n",
    "countList = []\n",
    "logVarList = np.linspace(-10,3,50)\n",
    "#varList = [0.01,0.05,0.1,0.5,1,5]\n",
    "for logVar in logVarList:\n",
    "    print(f\"ln(var) = {logVar}\")\n",
    "    var = np.exp(logVar)\n",
    "    #print(var)\n",
    "    df_approx = approx_freq(df, thresh, k, var)\n",
    "    Y_hat = df_approx[\"Freq_sinistre\"]\n",
    "    err = np.sqrt(np.mean((Y-Y_hat)**2))\n",
    "    countList.append(count_zeros(Y_hat,10**(-6)))\n",
    "    errList.append(err)"
   ]
  },
  {
   "cell_type": "markdown",
   "metadata": {},
   "source": [
    "With quadratic distance"
   ]
  },
  {
   "cell_type": "code",
   "execution_count": 20,
   "metadata": {},
   "outputs": [
    {
     "data": {
      "image/png": "[encoded data removed]",
      "text/plain": [
       "<Figure size 1080x360 with 1 Axes>"
      ]
     },
     "metadata": {
      "needs_background": "light"
     },
     "output_type": "display_data"
    }
   ],
   "source": [
    "fig = plt.figure()\n",
    "ax = fig.gca()\n",
    "#ax.set_xticks(logVarList)\n",
    "\n",
    "plt.plot((logVarList), errList)\n",
    "plt.title('Quadratic error')\n",
    "plt.xlabel('$log(var)$')\n",
    "plt.ylabel('$quadratic error$')\n",
    "plt.grid()\n",
    "plt.show()"
   ]
  },
  {
   "cell_type": "code",
   "execution_count": 21,
   "metadata": {},
   "outputs": [
    {
     "data": {
      "image/png": "[encoded data removed]",
      "text/plain": [
       "<Figure size 1080x360 with 1 Axes>"
      ]
     },
     "metadata": {
      "needs_background": "light"
     },
     "output_type": "display_data"
    }
   ],
   "source": [
    "fig = plt.figure()\n",
    "ax = fig.gca()\n",
    "#ax.set_xticks(logVarList)\n",
    "plt.plot((logVarList), countList)\n",
    "plt.title('ratio of zeros , ie values < $10^{-6}$')\n",
    "plt.xlabel('$log(var)$')\n",
    "plt.ylabel('Number of zeros')\n",
    "plt.grid()\n",
    "plt.show()"
   ]
  },
  {
   "cell_type": "markdown",
   "metadata": {},
   "source": [
    "With euclidian distance"
   ]
  },
  {
   "cell_type": "code",
   "execution_count": 34,
   "metadata": {
    "colab": {
     "base_uri": "https://localhost:8080/",
     "height": 354
    },
    "colab_type": "code",
    "id": "0F6i_Vw9mRX2",
    "outputId": "d7d5b241-bb14-4411-9dd1-8b6f8f909246"
   },
   "outputs": [
    {
     "data": {
      "image/png": "[encoded data removed]",
      "text/plain": [
       "<Figure size 1080x360 with 1 Axes>"
      ]
     },
     "metadata": {
      "tags": []
     },
     "output_type": "display_data"
    }
   ],
   "source": [
    "fig = plt.figure()\n",
    "ax = fig.gca()\n",
    "ax.set_xticks(logVarList)\n",
    "\n",
    "plt.plot((logVarList), errList)\n",
    "plt.title('Quadratic error')\n",
    "plt.xlabel('$log(var)$')\n",
    "plt.ylabel('$quadratic error$')\n",
    "plt.grid()\n",
    "plt.show()"
   ]
  },
  {
   "cell_type": "code",
   "execution_count": 35,
   "metadata": {
    "colab": {
     "base_uri": "https://localhost:8080/",
     "height": 357
    },
    "colab_type": "code",
    "id": "HqIJUWgKmRX5",
    "outputId": "cd19c05b-d5d9-40ad-f367-c35b88c4bc5a"
   },
   "outputs": [
    {
     "data": {
      "image/png": "[encoded data removed]",
      "text/plain": [
       "<Figure size 1080x360 with 1 Axes>"
      ]
     },
     "metadata": {
      "tags": []
     },
     "output_type": "display_data"
    }
   ],
   "source": [
    "fig = plt.figure()\n",
    "ax = fig.gca()\n",
    "ax.set_xticks(logVarList)\n",
    "plt.plot((logVarList), countList)\n",
    "plt.title('ratio of zeros , ie values < $10^{-6}$')\n",
    "plt.xlabel('$log(var)$')\n",
    "plt.ylabel('Number of zeros')\n",
    "plt.grid()\n",
    "plt.show()"
   ]
  },
  {
   "cell_type": "markdown",
   "metadata": {
    "colab_type": "text",
    "id": "yiWvwvSpP2sa"
   },
   "source": [
    "Prendre $var=-3.67 semble être optimal. Procédons à la vérification.\n",
    "Cette fois, nous sleectionnons les 10000 plus proches voisins sjitués à une distance inférieure à 0.25."
   ]
  },
  {
   "cell_type": "code",
   "execution_count": 0,
   "metadata": {
    "colab": {},
    "colab_type": "code",
    "id": "Etgk05IgmRYA"
   },
   "outputs": [],
   "source": [
    "var = np.exp(-3.6)"
   ]
  },
  {
   "cell_type": "code",
   "execution_count": 0,
   "metadata": {
    "colab": {},
    "colab_type": "code",
    "id": "-hFQGCr2mRYB"
   },
   "outputs": [],
   "source": [
    "df_approx = approx_freq(df, thresh=0.25, k=10000, var=var)"
   ]
  },
  {
   "cell_type": "code",
   "execution_count": 38,
   "metadata": {
    "colab": {
     "base_uri": "https://localhost:8080/",
     "height": 34
    },
    "colab_type": "code",
    "id": "BkumPWMUmRYD",
    "outputId": "cce87ea7-768a-450a-e857-eec18d27d142"
   },
   "outputs": [
    {
     "data": {
      "text/plain": [
       "0.0901430733250791"
      ]
     },
     "execution_count": 38,
     "metadata": {
      "tags": []
     },
     "output_type": "execute_result"
    }
   ],
   "source": [
    "count_zeros(df_approx[\"Freq_sinistre\"])"
   ]
  },
  {
   "cell_type": "code",
   "execution_count": 39,
   "metadata": {
    "colab": {
     "base_uri": "https://localhost:8080/",
     "height": 34
    },
    "colab_type": "code",
    "id": "TDWQvDVOmRYJ",
    "outputId": "b7ba76a2-3101-4448-8387-8ba9f6e19bd5"
   },
   "outputs": [
    {
     "data": {
      "text/plain": [
       "0.04796854423299092"
      ]
     },
     "execution_count": 39,
     "metadata": {
      "tags": []
     },
     "output_type": "execute_result"
    }
   ],
   "source": [
    "err = np.sqrt(np.mean((df[\"Freq_sinistre\"]-df_approx[\"Freq_sinistre\"])**2))\n",
    "err"
   ]
  },
  {
   "cell_type": "code",
   "execution_count": 47,
   "metadata": {},
   "outputs": [],
   "source": [
    "ari_kmeans = [1,0.42,0.70,0.65,0.66,0.49,0.45,0.62,0.56]\n",
    "ari_gmm = [1,0.2,0.37,0.47,0.25,0.12,0.21,0.56,0.29]"
   ]
  },
  {
   "cell_type": "code",
   "execution_count": 49,
   "metadata": {},
   "outputs": [
    {
     "data": {
      "text/plain": [
       "<matplotlib.legend.Legend at 0x2322aa550c8>"
      ]
     },
     "execution_count": 49,
     "metadata": {},
     "output_type": "execute_result"
    },
    {
     "data": {
      "image/png": "[encoded data removed]",
      "text/plain": [
       "<Figure size 1080x360 with 1 Axes>"
      ]
     },
     "metadata": {
      "needs_background": "light"
     },
     "output_type": "display_data"
    }
   ],
   "source": [
    "plt.plot(range(1,len(ari_kmeans)+1),ari_kmeans, label=\"Kmeans\")\n",
    "plt.plot(range(1,len(ari)+1),ari_gmm, label=\"GMM\")\n",
    "plt.title(\"Adjusted Rand Index\")\n",
    "plt.xlabel(\"Number of clusters\")\n",
    "plt.grid()\n",
    "plt.legend()\n"
   ]
  },
  {
   "cell_type": "code",
   "execution_count": null,
   "metadata": {},
   "outputs": [],
   "source": []
  }
 ],
 "metadata": {
  "colab": {
   "collapsed_sections": [],
   "name": "Approximation de Freq_sinistres.ipynb",
   "provenance": []
  },
  "kernelspec": {
   "display_name": "Python 3",
   "language": "python",
   "name": "python3"
  },
  "language_info": {
   "codemirror_mode": {
    "name": "ipython",
    "version": 3
   },
   "file_extension": ".py",
   "mimetype": "text/x-python",
   "name": "python",
   "nbconvert_exporter": "python",
   "pygments_lexer": "ipython3",
   "version": "3.7.4"
  }
 },
 "nbformat": 4,
 "nbformat_minor": 1
}
